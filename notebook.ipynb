{
 "cells": [
  {
   "cell_type": "markdown",
   "id": "9e6ea29d",
   "metadata": {
    "papermill": {
     "duration": 0.017994,
     "end_time": "2023-07-05T15:03:38.313917",
     "exception": false,
     "start_time": "2023-07-05T15:03:38.295923",
     "status": "completed"
    },
    "tags": []
   },
   "source": [
    "## Table of Contents\n",
    "<ul>\n",
    "<li><a href=\"#introduction\">Introduction</a></li>\n",
    "<li><a href=\"#assess\">Data Assessment</a></li>\n",
    "<li><a href=\"#cleaning\">Data Cleaning/Preprocessing</a></li>\n",
    "<li><a href=\"#model\">Models</a></li>\n",
    "<li><a href=\"#Results\">Results/Findings</a></li>\n",
    "<li><a href=\"#sumbit\">Submission</a></li>\n",
    "</ul>"
   ]
  },
  {
   "cell_type": "markdown",
   "id": "1a6798be",
   "metadata": {
    "papermill": {
     "duration": 0.015888,
     "end_time": "2023-07-05T15:03:38.346350",
     "exception": false,
     "start_time": "2023-07-05T15:03:38.330462",
     "status": "completed"
    },
    "tags": []
   },
   "source": [
    "## Preliminary Wrangling"
   ]
  },
  {
   "cell_type": "code",
   "execution_count": 1,
   "id": "d047e6cd",
   "metadata": {
    "_cell_guid": "b1076dfc-b9ad-4769-8c92-a6c4dae69d19",
    "_uuid": "8f2839f25d086af736a60e9eeb907d3b93b6e0e5",
    "execution": {
     "iopub.execute_input": "2023-07-05T15:03:38.384183Z",
     "iopub.status.busy": "2023-07-05T15:03:38.383155Z",
     "iopub.status.idle": "2023-07-05T15:03:38.400061Z",
     "shell.execute_reply": "2023-07-05T15:03:38.399268Z"
    },
    "papermill": {
     "duration": 0.037983,
     "end_time": "2023-07-05T15:03:38.402221",
     "exception": false,
     "start_time": "2023-07-05T15:03:38.364238",
     "status": "completed"
    },
    "tags": []
   },
   "outputs": [
    {
     "name": "stdout",
     "output_type": "stream",
     "text": [
      "/kaggle/input/house-prices-advanced-regression-techniques/sample_submission.csv\n",
      "/kaggle/input/house-prices-advanced-regression-techniques/data_description.txt\n",
      "/kaggle/input/house-prices-advanced-regression-techniques/train.csv\n",
      "/kaggle/input/house-prices-advanced-regression-techniques/test.csv\n"
     ]
    }
   ],
   "source": [
    "# This Python 3 environment comes with many helpful analytics libraries installed\n",
    "# It is defined by the kaggle/python Docker image: https://github.com/kaggle/docker-python\n",
    "# For example, here's several helpful packages to load\n",
    "\n",
    "import numpy as np # linear algebra\n",
    "import pandas as pd # data processing, CSV file I/O (e.g. pd.read_csv)\n",
    "\n",
    "# Input data files are available in the read-only \"../input/\" directory\n",
    "# For example, running this (by clicking run or pressing Shift+Enter) will list all files under the input directory\n",
    "\n",
    "import os\n",
    "for dirname, _, filenames in os.walk('/kaggle/input'):\n",
    "    for filename in filenames:\n",
    "        print(os.path.join(dirname, filename))\n",
    "\n",
    "# You can write up to 20GB to the current directory (/kaggle/working/) that gets preserved as output when you create a version using \"Save & Run All\" \n",
    "# You can also write temporary files to /kaggle/temp/, but they won't be saved outside of the current session"
   ]
  },
  {
   "cell_type": "code",
   "execution_count": 2,
   "id": "e06568f2",
   "metadata": {
    "execution": {
     "iopub.execute_input": "2023-07-05T15:03:38.435578Z",
     "iopub.status.busy": "2023-07-05T15:03:38.434862Z",
     "iopub.status.idle": "2023-07-05T15:03:39.678057Z",
     "shell.execute_reply": "2023-07-05T15:03:39.677020Z"
    },
    "papermill": {
     "duration": 1.262901,
     "end_time": "2023-07-05T15:03:39.680846",
     "exception": false,
     "start_time": "2023-07-05T15:03:38.417945",
     "status": "completed"
    },
    "tags": []
   },
   "outputs": [],
   "source": [
    "# import all packages and set plots to be embedded inline\n",
    "import numpy as np\n",
    "import pandas as pd\n",
    "import matplotlib.pyplot as plt\n",
    "import seaborn as sns\n",
    "import warnings\n",
    "warnings.filterwarnings('ignore')\n",
    "\n",
    "from sklearn.preprocessing import LabelEncoder\n",
    "\n",
    "sns.set()\n",
    "%matplotlib inline"
   ]
  },
  {
   "cell_type": "code",
   "execution_count": 3,
   "id": "a30e78df",
   "metadata": {
    "execution": {
     "iopub.execute_input": "2023-07-05T15:03:39.718011Z",
     "iopub.status.busy": "2023-07-05T15:03:39.717276Z",
     "iopub.status.idle": "2023-07-05T15:03:39.798465Z",
     "shell.execute_reply": "2023-07-05T15:03:39.797484Z"
    },
    "papermill": {
     "duration": 0.101994,
     "end_time": "2023-07-05T15:03:39.801070",
     "exception": false,
     "start_time": "2023-07-05T15:03:39.699076",
     "status": "completed"
    },
    "tags": []
   },
   "outputs": [],
   "source": [
    "# Loading train and test dataset\n",
    "df_train = pd.read_csv('/kaggle/input/house-prices-advanced-regression-techniques/train.csv')\n",
    "df_test = pd.read_csv('/kaggle/input/house-prices-advanced-regression-techniques/test.csv')"
   ]
  },
  {
   "cell_type": "code",
   "execution_count": 4,
   "id": "bd7ea8d8",
   "metadata": {
    "execution": {
     "iopub.execute_input": "2023-07-05T15:03:39.835457Z",
     "iopub.status.busy": "2023-07-05T15:03:39.834748Z",
     "iopub.status.idle": "2023-07-05T15:03:39.907018Z",
     "shell.execute_reply": "2023-07-05T15:03:39.905963Z"
    },
    "papermill": {
     "duration": 0.092067,
     "end_time": "2023-07-05T15:03:39.909340",
     "exception": false,
     "start_time": "2023-07-05T15:03:39.817273",
     "status": "completed"
    },
    "tags": []
   },
   "outputs": [
    {
     "data": {
      "text/html": [
       "<div>\n",
       "<style scoped>\n",
       "    .dataframe tbody tr th:only-of-type {\n",
       "        vertical-align: middle;\n",
       "    }\n",
       "\n",
       "    .dataframe tbody tr th {\n",
       "        vertical-align: top;\n",
       "    }\n",
       "\n",
       "    .dataframe thead th {\n",
       "        text-align: right;\n",
       "    }\n",
       "</style>\n",
       "<table border=\"1\" class=\"dataframe\">\n",
       "  <thead>\n",
       "    <tr style=\"text-align: right;\">\n",
       "      <th></th>\n",
       "      <th>Id</th>\n",
       "      <th>MSSubClass</th>\n",
       "      <th>MSZoning</th>\n",
       "      <th>LotFrontage</th>\n",
       "      <th>LotArea</th>\n",
       "      <th>Street</th>\n",
       "      <th>Alley</th>\n",
       "      <th>LotShape</th>\n",
       "      <th>LandContour</th>\n",
       "      <th>Utilities</th>\n",
       "      <th>...</th>\n",
       "      <th>PoolArea</th>\n",
       "      <th>PoolQC</th>\n",
       "      <th>Fence</th>\n",
       "      <th>MiscFeature</th>\n",
       "      <th>MiscVal</th>\n",
       "      <th>MoSold</th>\n",
       "      <th>YrSold</th>\n",
       "      <th>SaleType</th>\n",
       "      <th>SaleCondition</th>\n",
       "      <th>SalePrice</th>\n",
       "    </tr>\n",
       "  </thead>\n",
       "  <tbody>\n",
       "    <tr>\n",
       "      <th>0</th>\n",
       "      <td>1</td>\n",
       "      <td>60</td>\n",
       "      <td>RL</td>\n",
       "      <td>65.0</td>\n",
       "      <td>8450</td>\n",
       "      <td>Pave</td>\n",
       "      <td>NaN</td>\n",
       "      <td>Reg</td>\n",
       "      <td>Lvl</td>\n",
       "      <td>AllPub</td>\n",
       "      <td>...</td>\n",
       "      <td>0</td>\n",
       "      <td>NaN</td>\n",
       "      <td>NaN</td>\n",
       "      <td>NaN</td>\n",
       "      <td>0</td>\n",
       "      <td>2</td>\n",
       "      <td>2008</td>\n",
       "      <td>WD</td>\n",
       "      <td>Normal</td>\n",
       "      <td>208500.0</td>\n",
       "    </tr>\n",
       "    <tr>\n",
       "      <th>1</th>\n",
       "      <td>2</td>\n",
       "      <td>20</td>\n",
       "      <td>RL</td>\n",
       "      <td>80.0</td>\n",
       "      <td>9600</td>\n",
       "      <td>Pave</td>\n",
       "      <td>NaN</td>\n",
       "      <td>Reg</td>\n",
       "      <td>Lvl</td>\n",
       "      <td>AllPub</td>\n",
       "      <td>...</td>\n",
       "      <td>0</td>\n",
       "      <td>NaN</td>\n",
       "      <td>NaN</td>\n",
       "      <td>NaN</td>\n",
       "      <td>0</td>\n",
       "      <td>5</td>\n",
       "      <td>2007</td>\n",
       "      <td>WD</td>\n",
       "      <td>Normal</td>\n",
       "      <td>181500.0</td>\n",
       "    </tr>\n",
       "    <tr>\n",
       "      <th>2</th>\n",
       "      <td>3</td>\n",
       "      <td>60</td>\n",
       "      <td>RL</td>\n",
       "      <td>68.0</td>\n",
       "      <td>11250</td>\n",
       "      <td>Pave</td>\n",
       "      <td>NaN</td>\n",
       "      <td>IR1</td>\n",
       "      <td>Lvl</td>\n",
       "      <td>AllPub</td>\n",
       "      <td>...</td>\n",
       "      <td>0</td>\n",
       "      <td>NaN</td>\n",
       "      <td>NaN</td>\n",
       "      <td>NaN</td>\n",
       "      <td>0</td>\n",
       "      <td>9</td>\n",
       "      <td>2008</td>\n",
       "      <td>WD</td>\n",
       "      <td>Normal</td>\n",
       "      <td>223500.0</td>\n",
       "    </tr>\n",
       "    <tr>\n",
       "      <th>3</th>\n",
       "      <td>4</td>\n",
       "      <td>70</td>\n",
       "      <td>RL</td>\n",
       "      <td>60.0</td>\n",
       "      <td>9550</td>\n",
       "      <td>Pave</td>\n",
       "      <td>NaN</td>\n",
       "      <td>IR1</td>\n",
       "      <td>Lvl</td>\n",
       "      <td>AllPub</td>\n",
       "      <td>...</td>\n",
       "      <td>0</td>\n",
       "      <td>NaN</td>\n",
       "      <td>NaN</td>\n",
       "      <td>NaN</td>\n",
       "      <td>0</td>\n",
       "      <td>2</td>\n",
       "      <td>2006</td>\n",
       "      <td>WD</td>\n",
       "      <td>Abnorml</td>\n",
       "      <td>140000.0</td>\n",
       "    </tr>\n",
       "    <tr>\n",
       "      <th>4</th>\n",
       "      <td>5</td>\n",
       "      <td>60</td>\n",
       "      <td>RL</td>\n",
       "      <td>84.0</td>\n",
       "      <td>14260</td>\n",
       "      <td>Pave</td>\n",
       "      <td>NaN</td>\n",
       "      <td>IR1</td>\n",
       "      <td>Lvl</td>\n",
       "      <td>AllPub</td>\n",
       "      <td>...</td>\n",
       "      <td>0</td>\n",
       "      <td>NaN</td>\n",
       "      <td>NaN</td>\n",
       "      <td>NaN</td>\n",
       "      <td>0</td>\n",
       "      <td>12</td>\n",
       "      <td>2008</td>\n",
       "      <td>WD</td>\n",
       "      <td>Normal</td>\n",
       "      <td>250000.0</td>\n",
       "    </tr>\n",
       "    <tr>\n",
       "      <th>...</th>\n",
       "      <td>...</td>\n",
       "      <td>...</td>\n",
       "      <td>...</td>\n",
       "      <td>...</td>\n",
       "      <td>...</td>\n",
       "      <td>...</td>\n",
       "      <td>...</td>\n",
       "      <td>...</td>\n",
       "      <td>...</td>\n",
       "      <td>...</td>\n",
       "      <td>...</td>\n",
       "      <td>...</td>\n",
       "      <td>...</td>\n",
       "      <td>...</td>\n",
       "      <td>...</td>\n",
       "      <td>...</td>\n",
       "      <td>...</td>\n",
       "      <td>...</td>\n",
       "      <td>...</td>\n",
       "      <td>...</td>\n",
       "      <td>...</td>\n",
       "    </tr>\n",
       "    <tr>\n",
       "      <th>2914</th>\n",
       "      <td>2915</td>\n",
       "      <td>160</td>\n",
       "      <td>RM</td>\n",
       "      <td>21.0</td>\n",
       "      <td>1936</td>\n",
       "      <td>Pave</td>\n",
       "      <td>NaN</td>\n",
       "      <td>Reg</td>\n",
       "      <td>Lvl</td>\n",
       "      <td>AllPub</td>\n",
       "      <td>...</td>\n",
       "      <td>0</td>\n",
       "      <td>NaN</td>\n",
       "      <td>NaN</td>\n",
       "      <td>NaN</td>\n",
       "      <td>0</td>\n",
       "      <td>6</td>\n",
       "      <td>2006</td>\n",
       "      <td>WD</td>\n",
       "      <td>Normal</td>\n",
       "      <td>NaN</td>\n",
       "    </tr>\n",
       "    <tr>\n",
       "      <th>2915</th>\n",
       "      <td>2916</td>\n",
       "      <td>160</td>\n",
       "      <td>RM</td>\n",
       "      <td>21.0</td>\n",
       "      <td>1894</td>\n",
       "      <td>Pave</td>\n",
       "      <td>NaN</td>\n",
       "      <td>Reg</td>\n",
       "      <td>Lvl</td>\n",
       "      <td>AllPub</td>\n",
       "      <td>...</td>\n",
       "      <td>0</td>\n",
       "      <td>NaN</td>\n",
       "      <td>NaN</td>\n",
       "      <td>NaN</td>\n",
       "      <td>0</td>\n",
       "      <td>4</td>\n",
       "      <td>2006</td>\n",
       "      <td>WD</td>\n",
       "      <td>Abnorml</td>\n",
       "      <td>NaN</td>\n",
       "    </tr>\n",
       "    <tr>\n",
       "      <th>2916</th>\n",
       "      <td>2917</td>\n",
       "      <td>20</td>\n",
       "      <td>RL</td>\n",
       "      <td>160.0</td>\n",
       "      <td>20000</td>\n",
       "      <td>Pave</td>\n",
       "      <td>NaN</td>\n",
       "      <td>Reg</td>\n",
       "      <td>Lvl</td>\n",
       "      <td>AllPub</td>\n",
       "      <td>...</td>\n",
       "      <td>0</td>\n",
       "      <td>NaN</td>\n",
       "      <td>NaN</td>\n",
       "      <td>NaN</td>\n",
       "      <td>0</td>\n",
       "      <td>9</td>\n",
       "      <td>2006</td>\n",
       "      <td>WD</td>\n",
       "      <td>Abnorml</td>\n",
       "      <td>NaN</td>\n",
       "    </tr>\n",
       "    <tr>\n",
       "      <th>2917</th>\n",
       "      <td>2918</td>\n",
       "      <td>85</td>\n",
       "      <td>RL</td>\n",
       "      <td>62.0</td>\n",
       "      <td>10441</td>\n",
       "      <td>Pave</td>\n",
       "      <td>NaN</td>\n",
       "      <td>Reg</td>\n",
       "      <td>Lvl</td>\n",
       "      <td>AllPub</td>\n",
       "      <td>...</td>\n",
       "      <td>0</td>\n",
       "      <td>NaN</td>\n",
       "      <td>MnPrv</td>\n",
       "      <td>Shed</td>\n",
       "      <td>700</td>\n",
       "      <td>7</td>\n",
       "      <td>2006</td>\n",
       "      <td>WD</td>\n",
       "      <td>Normal</td>\n",
       "      <td>NaN</td>\n",
       "    </tr>\n",
       "    <tr>\n",
       "      <th>2918</th>\n",
       "      <td>2919</td>\n",
       "      <td>60</td>\n",
       "      <td>RL</td>\n",
       "      <td>74.0</td>\n",
       "      <td>9627</td>\n",
       "      <td>Pave</td>\n",
       "      <td>NaN</td>\n",
       "      <td>Reg</td>\n",
       "      <td>Lvl</td>\n",
       "      <td>AllPub</td>\n",
       "      <td>...</td>\n",
       "      <td>0</td>\n",
       "      <td>NaN</td>\n",
       "      <td>NaN</td>\n",
       "      <td>NaN</td>\n",
       "      <td>0</td>\n",
       "      <td>11</td>\n",
       "      <td>2006</td>\n",
       "      <td>WD</td>\n",
       "      <td>Normal</td>\n",
       "      <td>NaN</td>\n",
       "    </tr>\n",
       "  </tbody>\n",
       "</table>\n",
       "<p>2919 rows × 81 columns</p>\n",
       "</div>"
      ],
      "text/plain": [
       "        Id  MSSubClass MSZoning  LotFrontage  LotArea Street Alley LotShape  \\\n",
       "0        1          60       RL         65.0     8450   Pave   NaN      Reg   \n",
       "1        2          20       RL         80.0     9600   Pave   NaN      Reg   \n",
       "2        3          60       RL         68.0    11250   Pave   NaN      IR1   \n",
       "3        4          70       RL         60.0     9550   Pave   NaN      IR1   \n",
       "4        5          60       RL         84.0    14260   Pave   NaN      IR1   \n",
       "...    ...         ...      ...          ...      ...    ...   ...      ...   \n",
       "2914  2915         160       RM         21.0     1936   Pave   NaN      Reg   \n",
       "2915  2916         160       RM         21.0     1894   Pave   NaN      Reg   \n",
       "2916  2917          20       RL        160.0    20000   Pave   NaN      Reg   \n",
       "2917  2918          85       RL         62.0    10441   Pave   NaN      Reg   \n",
       "2918  2919          60       RL         74.0     9627   Pave   NaN      Reg   \n",
       "\n",
       "     LandContour Utilities  ... PoolArea PoolQC  Fence MiscFeature MiscVal  \\\n",
       "0            Lvl    AllPub  ...        0    NaN    NaN         NaN       0   \n",
       "1            Lvl    AllPub  ...        0    NaN    NaN         NaN       0   \n",
       "2            Lvl    AllPub  ...        0    NaN    NaN         NaN       0   \n",
       "3            Lvl    AllPub  ...        0    NaN    NaN         NaN       0   \n",
       "4            Lvl    AllPub  ...        0    NaN    NaN         NaN       0   \n",
       "...          ...       ...  ...      ...    ...    ...         ...     ...   \n",
       "2914         Lvl    AllPub  ...        0    NaN    NaN         NaN       0   \n",
       "2915         Lvl    AllPub  ...        0    NaN    NaN         NaN       0   \n",
       "2916         Lvl    AllPub  ...        0    NaN    NaN         NaN       0   \n",
       "2917         Lvl    AllPub  ...        0    NaN  MnPrv        Shed     700   \n",
       "2918         Lvl    AllPub  ...        0    NaN    NaN         NaN       0   \n",
       "\n",
       "     MoSold YrSold  SaleType  SaleCondition  SalePrice  \n",
       "0         2   2008        WD         Normal   208500.0  \n",
       "1         5   2007        WD         Normal   181500.0  \n",
       "2         9   2008        WD         Normal   223500.0  \n",
       "3         2   2006        WD        Abnorml   140000.0  \n",
       "4        12   2008        WD         Normal   250000.0  \n",
       "...     ...    ...       ...            ...        ...  \n",
       "2914      6   2006        WD         Normal        NaN  \n",
       "2915      4   2006        WD        Abnorml        NaN  \n",
       "2916      9   2006        WD        Abnorml        NaN  \n",
       "2917      7   2006        WD         Normal        NaN  \n",
       "2918     11   2006        WD         Normal        NaN  \n",
       "\n",
       "[2919 rows x 81 columns]"
      ]
     },
     "execution_count": 4,
     "metadata": {},
     "output_type": "execute_result"
    }
   ],
   "source": [
    "df = pd.concat([df_train, df_test]).reset_index(drop=True)\n",
    "df"
   ]
  },
  {
   "cell_type": "markdown",
   "id": "5ff93bbd",
   "metadata": {
    "papermill": {
     "duration": 0.015768,
     "end_time": "2023-07-05T15:03:39.941724",
     "exception": false,
     "start_time": "2023-07-05T15:03:39.925956",
     "status": "completed"
    },
    "tags": []
   },
   "source": [
    "<a id='assess'></a>\n",
    "### Data Assessment"
   ]
  },
  {
   "cell_type": "code",
   "execution_count": 5,
   "id": "d3109a32",
   "metadata": {
    "execution": {
     "iopub.execute_input": "2023-07-05T15:03:39.976600Z",
     "iopub.status.busy": "2023-07-05T15:03:39.976166Z",
     "iopub.status.idle": "2023-07-05T15:03:40.017620Z",
     "shell.execute_reply": "2023-07-05T15:03:40.016098Z"
    },
    "papermill": {
     "duration": 0.061953,
     "end_time": "2023-07-05T15:03:40.020370",
     "exception": false,
     "start_time": "2023-07-05T15:03:39.958417",
     "status": "completed"
    },
    "tags": []
   },
   "outputs": [
    {
     "name": "stdout",
     "output_type": "stream",
     "text": [
      "<class 'pandas.core.frame.DataFrame'>\n",
      "RangeIndex: 2919 entries, 0 to 2918\n",
      "Data columns (total 81 columns):\n",
      " #   Column         Non-Null Count  Dtype  \n",
      "---  ------         --------------  -----  \n",
      " 0   Id             2919 non-null   int64  \n",
      " 1   MSSubClass     2919 non-null   int64  \n",
      " 2   MSZoning       2915 non-null   object \n",
      " 3   LotFrontage    2433 non-null   float64\n",
      " 4   LotArea        2919 non-null   int64  \n",
      " 5   Street         2919 non-null   object \n",
      " 6   Alley          198 non-null    object \n",
      " 7   LotShape       2919 non-null   object \n",
      " 8   LandContour    2919 non-null   object \n",
      " 9   Utilities      2917 non-null   object \n",
      " 10  LotConfig      2919 non-null   object \n",
      " 11  LandSlope      2919 non-null   object \n",
      " 12  Neighborhood   2919 non-null   object \n",
      " 13  Condition1     2919 non-null   object \n",
      " 14  Condition2     2919 non-null   object \n",
      " 15  BldgType       2919 non-null   object \n",
      " 16  HouseStyle     2919 non-null   object \n",
      " 17  OverallQual    2919 non-null   int64  \n",
      " 18  OverallCond    2919 non-null   int64  \n",
      " 19  YearBuilt      2919 non-null   int64  \n",
      " 20  YearRemodAdd   2919 non-null   int64  \n",
      " 21  RoofStyle      2919 non-null   object \n",
      " 22  RoofMatl       2919 non-null   object \n",
      " 23  Exterior1st    2918 non-null   object \n",
      " 24  Exterior2nd    2918 non-null   object \n",
      " 25  MasVnrType     2895 non-null   object \n",
      " 26  MasVnrArea     2896 non-null   float64\n",
      " 27  ExterQual      2919 non-null   object \n",
      " 28  ExterCond      2919 non-null   object \n",
      " 29  Foundation     2919 non-null   object \n",
      " 30  BsmtQual       2838 non-null   object \n",
      " 31  BsmtCond       2837 non-null   object \n",
      " 32  BsmtExposure   2837 non-null   object \n",
      " 33  BsmtFinType1   2840 non-null   object \n",
      " 34  BsmtFinSF1     2918 non-null   float64\n",
      " 35  BsmtFinType2   2839 non-null   object \n",
      " 36  BsmtFinSF2     2918 non-null   float64\n",
      " 37  BsmtUnfSF      2918 non-null   float64\n",
      " 38  TotalBsmtSF    2918 non-null   float64\n",
      " 39  Heating        2919 non-null   object \n",
      " 40  HeatingQC      2919 non-null   object \n",
      " 41  CentralAir     2919 non-null   object \n",
      " 42  Electrical     2918 non-null   object \n",
      " 43  1stFlrSF       2919 non-null   int64  \n",
      " 44  2ndFlrSF       2919 non-null   int64  \n",
      " 45  LowQualFinSF   2919 non-null   int64  \n",
      " 46  GrLivArea      2919 non-null   int64  \n",
      " 47  BsmtFullBath   2917 non-null   float64\n",
      " 48  BsmtHalfBath   2917 non-null   float64\n",
      " 49  FullBath       2919 non-null   int64  \n",
      " 50  HalfBath       2919 non-null   int64  \n",
      " 51  BedroomAbvGr   2919 non-null   int64  \n",
      " 52  KitchenAbvGr   2919 non-null   int64  \n",
      " 53  KitchenQual    2918 non-null   object \n",
      " 54  TotRmsAbvGrd   2919 non-null   int64  \n",
      " 55  Functional     2917 non-null   object \n",
      " 56  Fireplaces     2919 non-null   int64  \n",
      " 57  FireplaceQu    1499 non-null   object \n",
      " 58  GarageType     2762 non-null   object \n",
      " 59  GarageYrBlt    2760 non-null   float64\n",
      " 60  GarageFinish   2760 non-null   object \n",
      " 61  GarageCars     2918 non-null   float64\n",
      " 62  GarageArea     2918 non-null   float64\n",
      " 63  GarageQual     2760 non-null   object \n",
      " 64  GarageCond     2760 non-null   object \n",
      " 65  PavedDrive     2919 non-null   object \n",
      " 66  WoodDeckSF     2919 non-null   int64  \n",
      " 67  OpenPorchSF    2919 non-null   int64  \n",
      " 68  EnclosedPorch  2919 non-null   int64  \n",
      " 69  3SsnPorch      2919 non-null   int64  \n",
      " 70  ScreenPorch    2919 non-null   int64  \n",
      " 71  PoolArea       2919 non-null   int64  \n",
      " 72  PoolQC         10 non-null     object \n",
      " 73  Fence          571 non-null    object \n",
      " 74  MiscFeature    105 non-null    object \n",
      " 75  MiscVal        2919 non-null   int64  \n",
      " 76  MoSold         2919 non-null   int64  \n",
      " 77  YrSold         2919 non-null   int64  \n",
      " 78  SaleType       2918 non-null   object \n",
      " 79  SaleCondition  2919 non-null   object \n",
      " 80  SalePrice      1460 non-null   float64\n",
      "dtypes: float64(12), int64(26), object(43)\n",
      "memory usage: 1.8+ MB\n"
     ]
    }
   ],
   "source": [
    "df.info()"
   ]
  },
  {
   "cell_type": "code",
   "execution_count": 6,
   "id": "a64390dd",
   "metadata": {
    "execution": {
     "iopub.execute_input": "2023-07-05T15:03:40.055527Z",
     "iopub.status.busy": "2023-07-05T15:03:40.055111Z",
     "iopub.status.idle": "2023-07-05T15:03:40.183760Z",
     "shell.execute_reply": "2023-07-05T15:03:40.182675Z"
    },
    "papermill": {
     "duration": 0.149562,
     "end_time": "2023-07-05T15:03:40.186308",
     "exception": false,
     "start_time": "2023-07-05T15:03:40.036746",
     "status": "completed"
    },
    "tags": []
   },
   "outputs": [
    {
     "data": {
      "text/html": [
       "<div>\n",
       "<style scoped>\n",
       "    .dataframe tbody tr th:only-of-type {\n",
       "        vertical-align: middle;\n",
       "    }\n",
       "\n",
       "    .dataframe tbody tr th {\n",
       "        vertical-align: top;\n",
       "    }\n",
       "\n",
       "    .dataframe thead th {\n",
       "        text-align: right;\n",
       "    }\n",
       "</style>\n",
       "<table border=\"1\" class=\"dataframe\">\n",
       "  <thead>\n",
       "    <tr style=\"text-align: right;\">\n",
       "      <th></th>\n",
       "      <th>count</th>\n",
       "      <th>mean</th>\n",
       "      <th>std</th>\n",
       "      <th>min</th>\n",
       "      <th>25%</th>\n",
       "      <th>50%</th>\n",
       "      <th>75%</th>\n",
       "      <th>max</th>\n",
       "    </tr>\n",
       "  </thead>\n",
       "  <tbody>\n",
       "    <tr>\n",
       "      <th>Id</th>\n",
       "      <td>2919.0</td>\n",
       "      <td>1460.000000</td>\n",
       "      <td>842.787043</td>\n",
       "      <td>1.0</td>\n",
       "      <td>730.5</td>\n",
       "      <td>1460.0</td>\n",
       "      <td>2189.5</td>\n",
       "      <td>2919.0</td>\n",
       "    </tr>\n",
       "    <tr>\n",
       "      <th>MSSubClass</th>\n",
       "      <td>2919.0</td>\n",
       "      <td>57.137718</td>\n",
       "      <td>42.517628</td>\n",
       "      <td>20.0</td>\n",
       "      <td>20.0</td>\n",
       "      <td>50.0</td>\n",
       "      <td>70.0</td>\n",
       "      <td>190.0</td>\n",
       "    </tr>\n",
       "    <tr>\n",
       "      <th>LotFrontage</th>\n",
       "      <td>2433.0</td>\n",
       "      <td>69.305795</td>\n",
       "      <td>23.344905</td>\n",
       "      <td>21.0</td>\n",
       "      <td>59.0</td>\n",
       "      <td>68.0</td>\n",
       "      <td>80.0</td>\n",
       "      <td>313.0</td>\n",
       "    </tr>\n",
       "    <tr>\n",
       "      <th>LotArea</th>\n",
       "      <td>2919.0</td>\n",
       "      <td>10168.114080</td>\n",
       "      <td>7886.996359</td>\n",
       "      <td>1300.0</td>\n",
       "      <td>7478.0</td>\n",
       "      <td>9453.0</td>\n",
       "      <td>11570.0</td>\n",
       "      <td>215245.0</td>\n",
       "    </tr>\n",
       "    <tr>\n",
       "      <th>OverallQual</th>\n",
       "      <td>2919.0</td>\n",
       "      <td>6.089072</td>\n",
       "      <td>1.409947</td>\n",
       "      <td>1.0</td>\n",
       "      <td>5.0</td>\n",
       "      <td>6.0</td>\n",
       "      <td>7.0</td>\n",
       "      <td>10.0</td>\n",
       "    </tr>\n",
       "    <tr>\n",
       "      <th>OverallCond</th>\n",
       "      <td>2919.0</td>\n",
       "      <td>5.564577</td>\n",
       "      <td>1.113131</td>\n",
       "      <td>1.0</td>\n",
       "      <td>5.0</td>\n",
       "      <td>5.0</td>\n",
       "      <td>6.0</td>\n",
       "      <td>9.0</td>\n",
       "    </tr>\n",
       "    <tr>\n",
       "      <th>YearBuilt</th>\n",
       "      <td>2919.0</td>\n",
       "      <td>1971.312778</td>\n",
       "      <td>30.291442</td>\n",
       "      <td>1872.0</td>\n",
       "      <td>1953.5</td>\n",
       "      <td>1973.0</td>\n",
       "      <td>2001.0</td>\n",
       "      <td>2010.0</td>\n",
       "    </tr>\n",
       "    <tr>\n",
       "      <th>YearRemodAdd</th>\n",
       "      <td>2919.0</td>\n",
       "      <td>1984.264474</td>\n",
       "      <td>20.894344</td>\n",
       "      <td>1950.0</td>\n",
       "      <td>1965.0</td>\n",
       "      <td>1993.0</td>\n",
       "      <td>2004.0</td>\n",
       "      <td>2010.0</td>\n",
       "    </tr>\n",
       "    <tr>\n",
       "      <th>MasVnrArea</th>\n",
       "      <td>2896.0</td>\n",
       "      <td>102.201312</td>\n",
       "      <td>179.334253</td>\n",
       "      <td>0.0</td>\n",
       "      <td>0.0</td>\n",
       "      <td>0.0</td>\n",
       "      <td>164.0</td>\n",
       "      <td>1600.0</td>\n",
       "    </tr>\n",
       "    <tr>\n",
       "      <th>BsmtFinSF1</th>\n",
       "      <td>2918.0</td>\n",
       "      <td>441.423235</td>\n",
       "      <td>455.610826</td>\n",
       "      <td>0.0</td>\n",
       "      <td>0.0</td>\n",
       "      <td>368.5</td>\n",
       "      <td>733.0</td>\n",
       "      <td>5644.0</td>\n",
       "    </tr>\n",
       "    <tr>\n",
       "      <th>BsmtFinSF2</th>\n",
       "      <td>2918.0</td>\n",
       "      <td>49.582248</td>\n",
       "      <td>169.205611</td>\n",
       "      <td>0.0</td>\n",
       "      <td>0.0</td>\n",
       "      <td>0.0</td>\n",
       "      <td>0.0</td>\n",
       "      <td>1526.0</td>\n",
       "    </tr>\n",
       "    <tr>\n",
       "      <th>BsmtUnfSF</th>\n",
       "      <td>2918.0</td>\n",
       "      <td>560.772104</td>\n",
       "      <td>439.543659</td>\n",
       "      <td>0.0</td>\n",
       "      <td>220.0</td>\n",
       "      <td>467.0</td>\n",
       "      <td>805.5</td>\n",
       "      <td>2336.0</td>\n",
       "    </tr>\n",
       "    <tr>\n",
       "      <th>TotalBsmtSF</th>\n",
       "      <td>2918.0</td>\n",
       "      <td>1051.777587</td>\n",
       "      <td>440.766258</td>\n",
       "      <td>0.0</td>\n",
       "      <td>793.0</td>\n",
       "      <td>989.5</td>\n",
       "      <td>1302.0</td>\n",
       "      <td>6110.0</td>\n",
       "    </tr>\n",
       "    <tr>\n",
       "      <th>1stFlrSF</th>\n",
       "      <td>2919.0</td>\n",
       "      <td>1159.581706</td>\n",
       "      <td>392.362079</td>\n",
       "      <td>334.0</td>\n",
       "      <td>876.0</td>\n",
       "      <td>1082.0</td>\n",
       "      <td>1387.5</td>\n",
       "      <td>5095.0</td>\n",
       "    </tr>\n",
       "    <tr>\n",
       "      <th>2ndFlrSF</th>\n",
       "      <td>2919.0</td>\n",
       "      <td>336.483727</td>\n",
       "      <td>428.701456</td>\n",
       "      <td>0.0</td>\n",
       "      <td>0.0</td>\n",
       "      <td>0.0</td>\n",
       "      <td>704.0</td>\n",
       "      <td>2065.0</td>\n",
       "    </tr>\n",
       "    <tr>\n",
       "      <th>LowQualFinSF</th>\n",
       "      <td>2919.0</td>\n",
       "      <td>4.694416</td>\n",
       "      <td>46.396825</td>\n",
       "      <td>0.0</td>\n",
       "      <td>0.0</td>\n",
       "      <td>0.0</td>\n",
       "      <td>0.0</td>\n",
       "      <td>1064.0</td>\n",
       "    </tr>\n",
       "    <tr>\n",
       "      <th>GrLivArea</th>\n",
       "      <td>2919.0</td>\n",
       "      <td>1500.759849</td>\n",
       "      <td>506.051045</td>\n",
       "      <td>334.0</td>\n",
       "      <td>1126.0</td>\n",
       "      <td>1444.0</td>\n",
       "      <td>1743.5</td>\n",
       "      <td>5642.0</td>\n",
       "    </tr>\n",
       "    <tr>\n",
       "      <th>BsmtFullBath</th>\n",
       "      <td>2917.0</td>\n",
       "      <td>0.429894</td>\n",
       "      <td>0.524736</td>\n",
       "      <td>0.0</td>\n",
       "      <td>0.0</td>\n",
       "      <td>0.0</td>\n",
       "      <td>1.0</td>\n",
       "      <td>3.0</td>\n",
       "    </tr>\n",
       "    <tr>\n",
       "      <th>BsmtHalfBath</th>\n",
       "      <td>2917.0</td>\n",
       "      <td>0.061364</td>\n",
       "      <td>0.245687</td>\n",
       "      <td>0.0</td>\n",
       "      <td>0.0</td>\n",
       "      <td>0.0</td>\n",
       "      <td>0.0</td>\n",
       "      <td>2.0</td>\n",
       "    </tr>\n",
       "    <tr>\n",
       "      <th>FullBath</th>\n",
       "      <td>2919.0</td>\n",
       "      <td>1.568003</td>\n",
       "      <td>0.552969</td>\n",
       "      <td>0.0</td>\n",
       "      <td>1.0</td>\n",
       "      <td>2.0</td>\n",
       "      <td>2.0</td>\n",
       "      <td>4.0</td>\n",
       "    </tr>\n",
       "    <tr>\n",
       "      <th>HalfBath</th>\n",
       "      <td>2919.0</td>\n",
       "      <td>0.380267</td>\n",
       "      <td>0.502872</td>\n",
       "      <td>0.0</td>\n",
       "      <td>0.0</td>\n",
       "      <td>0.0</td>\n",
       "      <td>1.0</td>\n",
       "      <td>2.0</td>\n",
       "    </tr>\n",
       "    <tr>\n",
       "      <th>BedroomAbvGr</th>\n",
       "      <td>2919.0</td>\n",
       "      <td>2.860226</td>\n",
       "      <td>0.822693</td>\n",
       "      <td>0.0</td>\n",
       "      <td>2.0</td>\n",
       "      <td>3.0</td>\n",
       "      <td>3.0</td>\n",
       "      <td>8.0</td>\n",
       "    </tr>\n",
       "    <tr>\n",
       "      <th>KitchenAbvGr</th>\n",
       "      <td>2919.0</td>\n",
       "      <td>1.044536</td>\n",
       "      <td>0.214462</td>\n",
       "      <td>0.0</td>\n",
       "      <td>1.0</td>\n",
       "      <td>1.0</td>\n",
       "      <td>1.0</td>\n",
       "      <td>3.0</td>\n",
       "    </tr>\n",
       "    <tr>\n",
       "      <th>TotRmsAbvGrd</th>\n",
       "      <td>2919.0</td>\n",
       "      <td>6.451524</td>\n",
       "      <td>1.569379</td>\n",
       "      <td>2.0</td>\n",
       "      <td>5.0</td>\n",
       "      <td>6.0</td>\n",
       "      <td>7.0</td>\n",
       "      <td>15.0</td>\n",
       "    </tr>\n",
       "    <tr>\n",
       "      <th>Fireplaces</th>\n",
       "      <td>2919.0</td>\n",
       "      <td>0.597122</td>\n",
       "      <td>0.646129</td>\n",
       "      <td>0.0</td>\n",
       "      <td>0.0</td>\n",
       "      <td>1.0</td>\n",
       "      <td>1.0</td>\n",
       "      <td>4.0</td>\n",
       "    </tr>\n",
       "    <tr>\n",
       "      <th>GarageYrBlt</th>\n",
       "      <td>2760.0</td>\n",
       "      <td>1978.113406</td>\n",
       "      <td>25.574285</td>\n",
       "      <td>1895.0</td>\n",
       "      <td>1960.0</td>\n",
       "      <td>1979.0</td>\n",
       "      <td>2002.0</td>\n",
       "      <td>2207.0</td>\n",
       "    </tr>\n",
       "    <tr>\n",
       "      <th>GarageCars</th>\n",
       "      <td>2918.0</td>\n",
       "      <td>1.766621</td>\n",
       "      <td>0.761624</td>\n",
       "      <td>0.0</td>\n",
       "      <td>1.0</td>\n",
       "      <td>2.0</td>\n",
       "      <td>2.0</td>\n",
       "      <td>5.0</td>\n",
       "    </tr>\n",
       "    <tr>\n",
       "      <th>GarageArea</th>\n",
       "      <td>2918.0</td>\n",
       "      <td>472.874572</td>\n",
       "      <td>215.394815</td>\n",
       "      <td>0.0</td>\n",
       "      <td>320.0</td>\n",
       "      <td>480.0</td>\n",
       "      <td>576.0</td>\n",
       "      <td>1488.0</td>\n",
       "    </tr>\n",
       "    <tr>\n",
       "      <th>WoodDeckSF</th>\n",
       "      <td>2919.0</td>\n",
       "      <td>93.709832</td>\n",
       "      <td>126.526589</td>\n",
       "      <td>0.0</td>\n",
       "      <td>0.0</td>\n",
       "      <td>0.0</td>\n",
       "      <td>168.0</td>\n",
       "      <td>1424.0</td>\n",
       "    </tr>\n",
       "    <tr>\n",
       "      <th>OpenPorchSF</th>\n",
       "      <td>2919.0</td>\n",
       "      <td>47.486811</td>\n",
       "      <td>67.575493</td>\n",
       "      <td>0.0</td>\n",
       "      <td>0.0</td>\n",
       "      <td>26.0</td>\n",
       "      <td>70.0</td>\n",
       "      <td>742.0</td>\n",
       "    </tr>\n",
       "    <tr>\n",
       "      <th>EnclosedPorch</th>\n",
       "      <td>2919.0</td>\n",
       "      <td>23.098321</td>\n",
       "      <td>64.244246</td>\n",
       "      <td>0.0</td>\n",
       "      <td>0.0</td>\n",
       "      <td>0.0</td>\n",
       "      <td>0.0</td>\n",
       "      <td>1012.0</td>\n",
       "    </tr>\n",
       "    <tr>\n",
       "      <th>3SsnPorch</th>\n",
       "      <td>2919.0</td>\n",
       "      <td>2.602261</td>\n",
       "      <td>25.188169</td>\n",
       "      <td>0.0</td>\n",
       "      <td>0.0</td>\n",
       "      <td>0.0</td>\n",
       "      <td>0.0</td>\n",
       "      <td>508.0</td>\n",
       "    </tr>\n",
       "    <tr>\n",
       "      <th>ScreenPorch</th>\n",
       "      <td>2919.0</td>\n",
       "      <td>16.062350</td>\n",
       "      <td>56.184365</td>\n",
       "      <td>0.0</td>\n",
       "      <td>0.0</td>\n",
       "      <td>0.0</td>\n",
       "      <td>0.0</td>\n",
       "      <td>576.0</td>\n",
       "    </tr>\n",
       "    <tr>\n",
       "      <th>PoolArea</th>\n",
       "      <td>2919.0</td>\n",
       "      <td>2.251799</td>\n",
       "      <td>35.663946</td>\n",
       "      <td>0.0</td>\n",
       "      <td>0.0</td>\n",
       "      <td>0.0</td>\n",
       "      <td>0.0</td>\n",
       "      <td>800.0</td>\n",
       "    </tr>\n",
       "    <tr>\n",
       "      <th>MiscVal</th>\n",
       "      <td>2919.0</td>\n",
       "      <td>50.825968</td>\n",
       "      <td>567.402211</td>\n",
       "      <td>0.0</td>\n",
       "      <td>0.0</td>\n",
       "      <td>0.0</td>\n",
       "      <td>0.0</td>\n",
       "      <td>17000.0</td>\n",
       "    </tr>\n",
       "    <tr>\n",
       "      <th>MoSold</th>\n",
       "      <td>2919.0</td>\n",
       "      <td>6.213087</td>\n",
       "      <td>2.714762</td>\n",
       "      <td>1.0</td>\n",
       "      <td>4.0</td>\n",
       "      <td>6.0</td>\n",
       "      <td>8.0</td>\n",
       "      <td>12.0</td>\n",
       "    </tr>\n",
       "    <tr>\n",
       "      <th>YrSold</th>\n",
       "      <td>2919.0</td>\n",
       "      <td>2007.792737</td>\n",
       "      <td>1.314964</td>\n",
       "      <td>2006.0</td>\n",
       "      <td>2007.0</td>\n",
       "      <td>2008.0</td>\n",
       "      <td>2009.0</td>\n",
       "      <td>2010.0</td>\n",
       "    </tr>\n",
       "    <tr>\n",
       "      <th>SalePrice</th>\n",
       "      <td>1460.0</td>\n",
       "      <td>180921.195890</td>\n",
       "      <td>79442.502883</td>\n",
       "      <td>34900.0</td>\n",
       "      <td>129975.0</td>\n",
       "      <td>163000.0</td>\n",
       "      <td>214000.0</td>\n",
       "      <td>755000.0</td>\n",
       "    </tr>\n",
       "  </tbody>\n",
       "</table>\n",
       "</div>"
      ],
      "text/plain": [
       "                count           mean           std      min       25%  \\\n",
       "Id             2919.0    1460.000000    842.787043      1.0     730.5   \n",
       "MSSubClass     2919.0      57.137718     42.517628     20.0      20.0   \n",
       "LotFrontage    2433.0      69.305795     23.344905     21.0      59.0   \n",
       "LotArea        2919.0   10168.114080   7886.996359   1300.0    7478.0   \n",
       "OverallQual    2919.0       6.089072      1.409947      1.0       5.0   \n",
       "OverallCond    2919.0       5.564577      1.113131      1.0       5.0   \n",
       "YearBuilt      2919.0    1971.312778     30.291442   1872.0    1953.5   \n",
       "YearRemodAdd   2919.0    1984.264474     20.894344   1950.0    1965.0   \n",
       "MasVnrArea     2896.0     102.201312    179.334253      0.0       0.0   \n",
       "BsmtFinSF1     2918.0     441.423235    455.610826      0.0       0.0   \n",
       "BsmtFinSF2     2918.0      49.582248    169.205611      0.0       0.0   \n",
       "BsmtUnfSF      2918.0     560.772104    439.543659      0.0     220.0   \n",
       "TotalBsmtSF    2918.0    1051.777587    440.766258      0.0     793.0   \n",
       "1stFlrSF       2919.0    1159.581706    392.362079    334.0     876.0   \n",
       "2ndFlrSF       2919.0     336.483727    428.701456      0.0       0.0   \n",
       "LowQualFinSF   2919.0       4.694416     46.396825      0.0       0.0   \n",
       "GrLivArea      2919.0    1500.759849    506.051045    334.0    1126.0   \n",
       "BsmtFullBath   2917.0       0.429894      0.524736      0.0       0.0   \n",
       "BsmtHalfBath   2917.0       0.061364      0.245687      0.0       0.0   \n",
       "FullBath       2919.0       1.568003      0.552969      0.0       1.0   \n",
       "HalfBath       2919.0       0.380267      0.502872      0.0       0.0   \n",
       "BedroomAbvGr   2919.0       2.860226      0.822693      0.0       2.0   \n",
       "KitchenAbvGr   2919.0       1.044536      0.214462      0.0       1.0   \n",
       "TotRmsAbvGrd   2919.0       6.451524      1.569379      2.0       5.0   \n",
       "Fireplaces     2919.0       0.597122      0.646129      0.0       0.0   \n",
       "GarageYrBlt    2760.0    1978.113406     25.574285   1895.0    1960.0   \n",
       "GarageCars     2918.0       1.766621      0.761624      0.0       1.0   \n",
       "GarageArea     2918.0     472.874572    215.394815      0.0     320.0   \n",
       "WoodDeckSF     2919.0      93.709832    126.526589      0.0       0.0   \n",
       "OpenPorchSF    2919.0      47.486811     67.575493      0.0       0.0   \n",
       "EnclosedPorch  2919.0      23.098321     64.244246      0.0       0.0   \n",
       "3SsnPorch      2919.0       2.602261     25.188169      0.0       0.0   \n",
       "ScreenPorch    2919.0      16.062350     56.184365      0.0       0.0   \n",
       "PoolArea       2919.0       2.251799     35.663946      0.0       0.0   \n",
       "MiscVal        2919.0      50.825968    567.402211      0.0       0.0   \n",
       "MoSold         2919.0       6.213087      2.714762      1.0       4.0   \n",
       "YrSold         2919.0    2007.792737      1.314964   2006.0    2007.0   \n",
       "SalePrice      1460.0  180921.195890  79442.502883  34900.0  129975.0   \n",
       "\n",
       "                    50%       75%       max  \n",
       "Id               1460.0    2189.5    2919.0  \n",
       "MSSubClass         50.0      70.0     190.0  \n",
       "LotFrontage        68.0      80.0     313.0  \n",
       "LotArea          9453.0   11570.0  215245.0  \n",
       "OverallQual         6.0       7.0      10.0  \n",
       "OverallCond         5.0       6.0       9.0  \n",
       "YearBuilt        1973.0    2001.0    2010.0  \n",
       "YearRemodAdd     1993.0    2004.0    2010.0  \n",
       "MasVnrArea          0.0     164.0    1600.0  \n",
       "BsmtFinSF1        368.5     733.0    5644.0  \n",
       "BsmtFinSF2          0.0       0.0    1526.0  \n",
       "BsmtUnfSF         467.0     805.5    2336.0  \n",
       "TotalBsmtSF       989.5    1302.0    6110.0  \n",
       "1stFlrSF         1082.0    1387.5    5095.0  \n",
       "2ndFlrSF            0.0     704.0    2065.0  \n",
       "LowQualFinSF        0.0       0.0    1064.0  \n",
       "GrLivArea        1444.0    1743.5    5642.0  \n",
       "BsmtFullBath        0.0       1.0       3.0  \n",
       "BsmtHalfBath        0.0       0.0       2.0  \n",
       "FullBath            2.0       2.0       4.0  \n",
       "HalfBath            0.0       1.0       2.0  \n",
       "BedroomAbvGr        3.0       3.0       8.0  \n",
       "KitchenAbvGr        1.0       1.0       3.0  \n",
       "TotRmsAbvGrd        6.0       7.0      15.0  \n",
       "Fireplaces          1.0       1.0       4.0  \n",
       "GarageYrBlt      1979.0    2002.0    2207.0  \n",
       "GarageCars          2.0       2.0       5.0  \n",
       "GarageArea        480.0     576.0    1488.0  \n",
       "WoodDeckSF          0.0     168.0    1424.0  \n",
       "OpenPorchSF        26.0      70.0     742.0  \n",
       "EnclosedPorch       0.0       0.0    1012.0  \n",
       "3SsnPorch           0.0       0.0     508.0  \n",
       "ScreenPorch         0.0       0.0     576.0  \n",
       "PoolArea            0.0       0.0     800.0  \n",
       "MiscVal             0.0       0.0   17000.0  \n",
       "MoSold              6.0       8.0      12.0  \n",
       "YrSold           2008.0    2009.0    2010.0  \n",
       "SalePrice      163000.0  214000.0  755000.0  "
      ]
     },
     "execution_count": 6,
     "metadata": {},
     "output_type": "execute_result"
    }
   ],
   "source": [
    "df.describe().T"
   ]
  },
  {
   "cell_type": "code",
   "execution_count": 7,
   "id": "9e40ac3c",
   "metadata": {
    "execution": {
     "iopub.execute_input": "2023-07-05T15:03:40.222115Z",
     "iopub.status.busy": "2023-07-05T15:03:40.221744Z",
     "iopub.status.idle": "2023-07-05T15:03:40.394767Z",
     "shell.execute_reply": "2023-07-05T15:03:40.393917Z"
    },
    "papermill": {
     "duration": 0.193738,
     "end_time": "2023-07-05T15:03:40.396959",
     "exception": false,
     "start_time": "2023-07-05T15:03:40.203221",
     "status": "completed"
    },
    "tags": []
   },
   "outputs": [
    {
     "data": {
      "text/plain": [
       "Index(['MasVnrArea', 'BsmtFinSF1', 'BsmtFinSF2', 'BsmtUnfSF', 'TotalBsmtSF',\n",
       "       '2ndFlrSF', 'LowQualFinSF', 'BsmtFullBath', 'BsmtHalfBath', 'FullBath',\n",
       "       'HalfBath', 'BedroomAbvGr', 'KitchenAbvGr', 'Fireplaces', 'GarageCars',\n",
       "       'GarageArea', 'WoodDeckSF', 'OpenPorchSF', 'EnclosedPorch', '3SsnPorch',\n",
       "       'ScreenPorch', 'PoolArea', 'MiscVal'],\n",
       "      dtype='object')"
      ]
     },
     "execution_count": 7,
     "metadata": {},
     "output_type": "execute_result"
    }
   ],
   "source": [
    "df.describe().T[df.describe().T['min']==0].index"
   ]
  },
  {
   "cell_type": "markdown",
   "id": "10e23523",
   "metadata": {
    "papermill": {
     "duration": 0.017499,
     "end_time": "2023-07-05T15:03:40.432730",
     "exception": false,
     "start_time": "2023-07-05T15:03:40.415231",
     "status": "completed"
    },
    "tags": []
   },
   "source": [
    "### Visualizing Numerical Columns"
   ]
  },
  {
   "cell_type": "code",
   "execution_count": 8,
   "id": "50e4eea8",
   "metadata": {
    "execution": {
     "iopub.execute_input": "2023-07-05T15:03:40.469543Z",
     "iopub.status.busy": "2023-07-05T15:03:40.468730Z",
     "iopub.status.idle": "2023-07-05T15:03:47.341842Z",
     "shell.execute_reply": "2023-07-05T15:03:47.340685Z"
    },
    "papermill": {
     "duration": 6.898025,
     "end_time": "2023-07-05T15:03:47.348132",
     "exception": false,
     "start_time": "2023-07-05T15:03:40.450107",
     "status": "completed"
    },
    "tags": []
   },
   "outputs": [
    {
     "data": {
      "image/png": "[encoded data removed]",
      "text/plain": [
       "<Figure size 2160x2160 with 42 Axes>"
      ]
     },
     "metadata": {},
     "output_type": "display_data"
    }
   ],
   "source": [
    "sns.set(font_scale = 1.5)\n",
    "df.drop('Id', axis=1).hist(figsize = (30, 30));"
   ]
  },
  {
   "cell_type": "markdown",
   "id": "ff3a2213",
   "metadata": {
    "papermill": {
     "duration": 0.022217,
     "end_time": "2023-07-05T15:03:47.391743",
     "exception": false,
     "start_time": "2023-07-05T15:03:47.369526",
     "status": "completed"
    },
    "tags": []
   },
   "source": [
    "**Insight**\n",
    "- The columns listed below has a min value equal to 0. This Zero also mean unavailable:\n",
    ">MasVnrArea, BsmtFinSF1, BsmtFinSF2, BsmtUnfSF, TotalBsmtSF, 2ndFlrSF, LowQualFinSF, BsmtFullBath, BsmtHalfBath, FullBath, HalfBath, BedroomAbvGr, KitchenAbvGr, Fireplaces, GarageCars, GarageArea, WoodDeckSF, OpenPorchSF, EnclosedPorch, 3SsnPorch, ScreenPorch, PoolArea, MiscVal."
   ]
  },
  {
   "cell_type": "code",
   "execution_count": 9,
   "id": "3a134f99",
   "metadata": {
    "execution": {
     "iopub.execute_input": "2023-07-05T15:03:47.438363Z",
     "iopub.status.busy": "2023-07-05T15:03:47.437970Z",
     "iopub.status.idle": "2023-07-05T15:03:47.490178Z",
     "shell.execute_reply": "2023-07-05T15:03:47.489219Z"
    },
    "papermill": {
     "duration": 0.078049,
     "end_time": "2023-07-05T15:03:47.492834",
     "exception": false,
     "start_time": "2023-07-05T15:03:47.414785",
     "status": "completed"
    },
    "tags": []
   },
   "outputs": [
    {
     "data": {
      "text/plain": [
       "PoolQC          2909\n",
       "MiscFeature     2814\n",
       "Alley           2721\n",
       "Fence           2348\n",
       "SalePrice       1459\n",
       "FireplaceQu     1420\n",
       "LotFrontage      486\n",
       "GarageCond       159\n",
       "GarageYrBlt      159\n",
       "GarageFinish     159\n",
       "GarageQual       159\n",
       "GarageType       157\n",
       "BsmtExposure      82\n",
       "BsmtCond          82\n",
       "BsmtQual          81\n",
       "BsmtFinType2      80\n",
       "BsmtFinType1      79\n",
       "MasVnrType        24\n",
       "MasVnrArea        23\n",
       "MSZoning           4\n",
       "Functional         2\n",
       "BsmtHalfBath       2\n",
       "BsmtFullBath       2\n",
       "Utilities          2\n",
       "KitchenQual        1\n",
       "TotalBsmtSF        1\n",
       "BsmtUnfSF          1\n",
       "GarageCars         1\n",
       "GarageArea         1\n",
       "BsmtFinSF2         1\n",
       "BsmtFinSF1         1\n",
       "Exterior2nd        1\n",
       "Exterior1st        1\n",
       "SaleType           1\n",
       "Electrical         1\n",
       "dtype: int64"
      ]
     },
     "execution_count": 9,
     "metadata": {},
     "output_type": "execute_result"
    }
   ],
   "source": [
    "# Sorting columns with null values\n",
    "columns_null = [cols for cols in df.columns if df[cols].isnull().sum() > 0]\n",
    "df[columns_null].isnull().sum().sort_values(ascending=False)"
   ]
  },
  {
   "cell_type": "markdown",
   "id": "2f9eb4dc",
   "metadata": {
    "papermill": {
     "duration": 0.022413,
     "end_time": "2023-07-05T15:03:47.538387",
     "exception": false,
     "start_time": "2023-07-05T15:03:47.515974",
     "status": "completed"
    },
    "tags": []
   },
   "source": [
    "### **`Data Assessment Results`**\n",
    "- **Fill NaN with 0:** LotFrontage, MasVnrArea, GarageYrBlt, BsmtFinSF1, BsmtFinSF2, BsmtUnfSF, TotalBsmtSF, BsmtFullBath, BsmtHalfBath, GarageCars, GarageArea\n",
    "- **MasVnrType:** Convert None to NaN\n",
    "- **Label Encode:** Street, Utilities, CentralAir\n",
    "- **One-Hot Encode:** MSZoning, Alley, LotShape, LandContour, LotConfig, LandSlope, Neighborhood, Condition1, Condition2, BldgType, HouseStyle, RoofStyle, RoofMatl, Exterior1st, Exterior2nd, MasVnrType, ExterQual, ExterCond, Foundation, BsmtQual, BsmtCond, BsmtExposure, BsmtFinType1, BsmtFinType2, Heating, HeatingQC, Electrical, KitchenQual, Functional, FireplaceQu, GarageType, GarageFinish, GarageQual, GarageCond, PavedDrive, PoolQC, Fence, MiscFeature, SaleType, SaleCondition"
   ]
  },
  {
   "cell_type": "markdown",
   "id": "61c89056",
   "metadata": {
    "papermill": {
     "duration": 0.022262,
     "end_time": "2023-07-05T15:03:47.583318",
     "exception": false,
     "start_time": "2023-07-05T15:03:47.561056",
     "status": "completed"
    },
    "tags": []
   },
   "source": [
    "<a id='cleaning'></a>\n",
    "### Data Cleaning/Preprocessing\n",
    "> We would first make a copy the dataset, then perform variou cleaning/ preprocessind operation on the dataset"
   ]
  },
  {
   "cell_type": "markdown",
   "id": "33cebf81",
   "metadata": {
    "papermill": {
     "duration": 0.022403,
     "end_time": "2023-07-05T15:03:47.628071",
     "exception": false,
     "start_time": "2023-07-05T15:03:47.605668",
     "status": "completed"
    },
    "tags": []
   },
   "source": [
    "##### **Fill NaN with 0:** LotFrontage, MasVnrArea, GarageYrBlt, BsmtFinSF1, BsmtFinSF2, BsmtUnfSF, TotalBsmtSF, BsmtFullBath, BsmtHalfBath, GarageCars, GarageArea"
   ]
  },
  {
   "cell_type": "code",
   "execution_count": 10,
   "id": "3bb6db5c",
   "metadata": {
    "execution": {
     "iopub.execute_input": "2023-07-05T15:03:47.674875Z",
     "iopub.status.busy": "2023-07-05T15:03:47.674467Z",
     "iopub.status.idle": "2023-07-05T15:03:47.687914Z",
     "shell.execute_reply": "2023-07-05T15:03:47.686458Z"
    },
    "papermill": {
     "duration": 0.040087,
     "end_time": "2023-07-05T15:03:47.690393",
     "exception": false,
     "start_time": "2023-07-05T15:03:47.650306",
     "status": "completed"
    },
    "tags": []
   },
   "outputs": [
    {
     "name": "stdout",
     "output_type": "stream",
     "text": [
      "LotFrontage 0\n",
      "MasVnrArea 0\n",
      "GarageYrBlt 0\n",
      "BsmtFinSF1 0\n",
      "BsmtFinSF2 0\n",
      "BsmtUnfSF 0\n",
      "TotalBsmtSF 0\n",
      "BsmtFullBath 0\n",
      "BsmtHalfBath 0\n",
      "GarageCars 0\n",
      "GarageArea 0\n"
     ]
    }
   ],
   "source": [
    "zero_list = ['LotFrontage', 'MasVnrArea', 'GarageYrBlt', 'BsmtFinSF1', 'BsmtFinSF2', 'BsmtUnfSF', 'TotalBsmtSF', 'BsmtFullBath', 'BsmtHalfBath', 'GarageCars', 'GarageArea']\n",
    "\n",
    "for col in zero_list:\n",
    "    df[col].fillna(0, inplace = True)\n",
    "    # Print to confirm\n",
    "    print(col, df[col].isnull().sum())"
   ]
  },
  {
   "cell_type": "markdown",
   "id": "62d5f9c2",
   "metadata": {
    "papermill": {
     "duration": 0.022175,
     "end_time": "2023-07-05T15:03:47.735217",
     "exception": false,
     "start_time": "2023-07-05T15:03:47.713042",
     "status": "completed"
    },
    "tags": []
   },
   "source": [
    "##### MasVnrType : Convert None to NaN then one hot"
   ]
  },
  {
   "cell_type": "code",
   "execution_count": 11,
   "id": "d4a4f93a",
   "metadata": {
    "execution": {
     "iopub.execute_input": "2023-07-05T15:03:47.780825Z",
     "iopub.status.busy": "2023-07-05T15:03:47.780416Z",
     "iopub.status.idle": "2023-07-05T15:03:47.787917Z",
     "shell.execute_reply": "2023-07-05T15:03:47.787242Z"
    },
    "papermill": {
     "duration": 0.03285,
     "end_time": "2023-07-05T15:03:47.790135",
     "exception": false,
     "start_time": "2023-07-05T15:03:47.757285",
     "status": "completed"
    },
    "tags": []
   },
   "outputs": [
    {
     "data": {
      "text/plain": [
       "array(['BrkFace', 'None', 'Stone', 'BrkCmn', nan], dtype=object)"
      ]
     },
     "execution_count": 11,
     "metadata": {},
     "output_type": "execute_result"
    }
   ],
   "source": [
    "# Converting 'None' to NaN\n",
    "# df['MasVnrType'] = df['MasVnrType'].replace('None', np.nan)\n",
    "\n",
    "# Checking Result\n",
    "df['MasVnrType'].unique()"
   ]
  },
  {
   "cell_type": "markdown",
   "id": "fa528391",
   "metadata": {
    "papermill": {
     "duration": 0.021699,
     "end_time": "2023-07-05T15:03:47.833679",
     "exception": false,
     "start_time": "2023-07-05T15:03:47.811980",
     "status": "completed"
    },
    "tags": []
   },
   "source": [
    "#### **Label Encode**\n",
    "> Street, Utilities, CentralAir"
   ]
  },
  {
   "cell_type": "code",
   "execution_count": 12,
   "id": "0d0f65ab",
   "metadata": {
    "execution": {
     "iopub.execute_input": "2023-07-05T15:03:47.879322Z",
     "iopub.status.busy": "2023-07-05T15:03:47.878899Z",
     "iopub.status.idle": "2023-07-05T15:03:47.900967Z",
     "shell.execute_reply": "2023-07-05T15:03:47.899718Z"
    },
    "papermill": {
     "duration": 0.047784,
     "end_time": "2023-07-05T15:03:47.903274",
     "exception": false,
     "start_time": "2023-07-05T15:03:47.855490",
     "status": "completed"
    },
    "tags": []
   },
   "outputs": [
    {
     "name": "stdout",
     "output_type": "stream",
     "text": [
      "['Street', 'CentralAir']\n"
     ]
    }
   ],
   "source": [
    "binary_columns = [col for col in df.columns if df[col].dtype == \"object\" and len(df[col].unique()) == 2]\n",
    "print(binary_columns)"
   ]
  },
  {
   "cell_type": "code",
   "execution_count": 13,
   "id": "9d4099fe",
   "metadata": {
    "execution": {
     "iopub.execute_input": "2023-07-05T15:03:47.950055Z",
     "iopub.status.busy": "2023-07-05T15:03:47.949341Z",
     "iopub.status.idle": "2023-07-05T15:03:47.970773Z",
     "shell.execute_reply": "2023-07-05T15:03:47.969532Z"
    },
    "papermill": {
     "duration": 0.047875,
     "end_time": "2023-07-05T15:03:47.973283",
     "exception": false,
     "start_time": "2023-07-05T15:03:47.925408",
     "status": "completed"
    },
    "tags": []
   },
   "outputs": [
    {
     "data": {
      "text/html": [
       "<div>\n",
       "<style scoped>\n",
       "    .dataframe tbody tr th:only-of-type {\n",
       "        vertical-align: middle;\n",
       "    }\n",
       "\n",
       "    .dataframe tbody tr th {\n",
       "        vertical-align: top;\n",
       "    }\n",
       "\n",
       "    .dataframe thead th {\n",
       "        text-align: right;\n",
       "    }\n",
       "</style>\n",
       "<table border=\"1\" class=\"dataframe\">\n",
       "  <thead>\n",
       "    <tr style=\"text-align: right;\">\n",
       "      <th></th>\n",
       "      <th>Street</th>\n",
       "      <th>CentralAir</th>\n",
       "    </tr>\n",
       "  </thead>\n",
       "  <tbody>\n",
       "    <tr>\n",
       "      <th>1120</th>\n",
       "      <td>1</td>\n",
       "      <td>1</td>\n",
       "    </tr>\n",
       "    <tr>\n",
       "      <th>874</th>\n",
       "      <td>1</td>\n",
       "      <td>1</td>\n",
       "    </tr>\n",
       "    <tr>\n",
       "      <th>602</th>\n",
       "      <td>1</td>\n",
       "      <td>1</td>\n",
       "    </tr>\n",
       "    <tr>\n",
       "      <th>1910</th>\n",
       "      <td>1</td>\n",
       "      <td>1</td>\n",
       "    </tr>\n",
       "    <tr>\n",
       "      <th>1145</th>\n",
       "      <td>1</td>\n",
       "      <td>1</td>\n",
       "    </tr>\n",
       "  </tbody>\n",
       "</table>\n",
       "</div>"
      ],
      "text/plain": [
       "      Street  CentralAir\n",
       "1120       1           1\n",
       "874        1           1\n",
       "602        1           1\n",
       "1910       1           1\n",
       "1145       1           1"
      ]
     },
     "execution_count": 13,
     "metadata": {},
     "output_type": "execute_result"
    }
   ],
   "source": [
    "def label_encoding(df,col):\n",
    "    label_enc = LabelEncoder()\n",
    "    df[col] = label_enc.fit_transform(df[col])\n",
    "    return df\n",
    "\n",
    "# Label Encoding binary columns\n",
    "for col in binary_columns:\n",
    "    df = label_encoding(df,col)\n",
    "\n",
    "    \n",
    "# Checking Result\n",
    "df[binary_columns].sample(5)"
   ]
  },
  {
   "cell_type": "markdown",
   "id": "74300df9",
   "metadata": {
    "papermill": {
     "duration": 0.022376,
     "end_time": "2023-07-05T15:03:48.018884",
     "exception": false,
     "start_time": "2023-07-05T15:03:47.996508",
     "status": "completed"
    },
    "tags": []
   },
   "source": [
    "#### **One-Hot Encode**\n",
    "> MSZoning, Alley, LotShape, LandContour, LotConfig, LandSlope, Neighborhood, Condition1, Condition2, BldgType, HouseStyle, RoofStyle, RoofMatl, Exterior1st, Exterior2nd, MasVnrType, ExterQual, ExterCond, Foundation, BsmtQual, BsmtCond, BsmtExposure, BsmtFinType1, BsmtFinType2, Heating, HeatingQC, Electrical, KitchenQual, Functional, FireplaceQu, GarageType, GarageFinish, GarageQual, GarageCond, PavedDrive, PoolQC, Fence, MiscFeature, SaleType, SaleCondition"
   ]
  },
  {
   "cell_type": "code",
   "execution_count": 14,
   "id": "90ae8482",
   "metadata": {
    "execution": {
     "iopub.execute_input": "2023-07-05T15:03:48.066210Z",
     "iopub.status.busy": "2023-07-05T15:03:48.065828Z",
     "iopub.status.idle": "2023-07-05T15:03:48.160422Z",
     "shell.execute_reply": "2023-07-05T15:03:48.159410Z"
    },
    "papermill": {
     "duration": 0.121059,
     "end_time": "2023-07-05T15:03:48.162802",
     "exception": false,
     "start_time": "2023-07-05T15:03:48.041743",
     "status": "completed"
    },
    "tags": []
   },
   "outputs": [
    {
     "data": {
      "text/html": [
       "<div>\n",
       "<style scoped>\n",
       "    .dataframe tbody tr th:only-of-type {\n",
       "        vertical-align: middle;\n",
       "    }\n",
       "\n",
       "    .dataframe tbody tr th {\n",
       "        vertical-align: top;\n",
       "    }\n",
       "\n",
       "    .dataframe thead th {\n",
       "        text-align: right;\n",
       "    }\n",
       "</style>\n",
       "<table border=\"1\" class=\"dataframe\">\n",
       "  <thead>\n",
       "    <tr style=\"text-align: right;\">\n",
       "      <th></th>\n",
       "      <th>Id</th>\n",
       "      <th>MSSubClass</th>\n",
       "      <th>LotFrontage</th>\n",
       "      <th>LotArea</th>\n",
       "      <th>Street</th>\n",
       "      <th>OverallQual</th>\n",
       "      <th>OverallCond</th>\n",
       "      <th>YearBuilt</th>\n",
       "      <th>YearRemodAdd</th>\n",
       "      <th>MasVnrArea</th>\n",
       "      <th>...</th>\n",
       "      <th>SaleType_ConLw</th>\n",
       "      <th>SaleType_New</th>\n",
       "      <th>SaleType_Oth</th>\n",
       "      <th>SaleType_WD</th>\n",
       "      <th>SaleCondition_Abnorml</th>\n",
       "      <th>SaleCondition_AdjLand</th>\n",
       "      <th>SaleCondition_Alloca</th>\n",
       "      <th>SaleCondition_Family</th>\n",
       "      <th>SaleCondition_Normal</th>\n",
       "      <th>SaleCondition_Partial</th>\n",
       "    </tr>\n",
       "  </thead>\n",
       "  <tbody>\n",
       "    <tr>\n",
       "      <th>0</th>\n",
       "      <td>1</td>\n",
       "      <td>60</td>\n",
       "      <td>65.0</td>\n",
       "      <td>8450</td>\n",
       "      <td>1</td>\n",
       "      <td>7</td>\n",
       "      <td>5</td>\n",
       "      <td>2003</td>\n",
       "      <td>2003</td>\n",
       "      <td>196.0</td>\n",
       "      <td>...</td>\n",
       "      <td>0</td>\n",
       "      <td>0</td>\n",
       "      <td>0</td>\n",
       "      <td>1</td>\n",
       "      <td>0</td>\n",
       "      <td>0</td>\n",
       "      <td>0</td>\n",
       "      <td>0</td>\n",
       "      <td>1</td>\n",
       "      <td>0</td>\n",
       "    </tr>\n",
       "    <tr>\n",
       "      <th>1</th>\n",
       "      <td>2</td>\n",
       "      <td>20</td>\n",
       "      <td>80.0</td>\n",
       "      <td>9600</td>\n",
       "      <td>1</td>\n",
       "      <td>6</td>\n",
       "      <td>8</td>\n",
       "      <td>1976</td>\n",
       "      <td>1976</td>\n",
       "      <td>0.0</td>\n",
       "      <td>...</td>\n",
       "      <td>0</td>\n",
       "      <td>0</td>\n",
       "      <td>0</td>\n",
       "      <td>1</td>\n",
       "      <td>0</td>\n",
       "      <td>0</td>\n",
       "      <td>0</td>\n",
       "      <td>0</td>\n",
       "      <td>1</td>\n",
       "      <td>0</td>\n",
       "    </tr>\n",
       "    <tr>\n",
       "      <th>2</th>\n",
       "      <td>3</td>\n",
       "      <td>60</td>\n",
       "      <td>68.0</td>\n",
       "      <td>11250</td>\n",
       "      <td>1</td>\n",
       "      <td>7</td>\n",
       "      <td>5</td>\n",
       "      <td>2001</td>\n",
       "      <td>2002</td>\n",
       "      <td>162.0</td>\n",
       "      <td>...</td>\n",
       "      <td>0</td>\n",
       "      <td>0</td>\n",
       "      <td>0</td>\n",
       "      <td>1</td>\n",
       "      <td>0</td>\n",
       "      <td>0</td>\n",
       "      <td>0</td>\n",
       "      <td>0</td>\n",
       "      <td>1</td>\n",
       "      <td>0</td>\n",
       "    </tr>\n",
       "    <tr>\n",
       "      <th>3</th>\n",
       "      <td>4</td>\n",
       "      <td>70</td>\n",
       "      <td>60.0</td>\n",
       "      <td>9550</td>\n",
       "      <td>1</td>\n",
       "      <td>7</td>\n",
       "      <td>5</td>\n",
       "      <td>1915</td>\n",
       "      <td>1970</td>\n",
       "      <td>0.0</td>\n",
       "      <td>...</td>\n",
       "      <td>0</td>\n",
       "      <td>0</td>\n",
       "      <td>0</td>\n",
       "      <td>1</td>\n",
       "      <td>1</td>\n",
       "      <td>0</td>\n",
       "      <td>0</td>\n",
       "      <td>0</td>\n",
       "      <td>0</td>\n",
       "      <td>0</td>\n",
       "    </tr>\n",
       "    <tr>\n",
       "      <th>4</th>\n",
       "      <td>5</td>\n",
       "      <td>60</td>\n",
       "      <td>84.0</td>\n",
       "      <td>14260</td>\n",
       "      <td>1</td>\n",
       "      <td>8</td>\n",
       "      <td>5</td>\n",
       "      <td>2000</td>\n",
       "      <td>2000</td>\n",
       "      <td>350.0</td>\n",
       "      <td>...</td>\n",
       "      <td>0</td>\n",
       "      <td>0</td>\n",
       "      <td>0</td>\n",
       "      <td>1</td>\n",
       "      <td>0</td>\n",
       "      <td>0</td>\n",
       "      <td>0</td>\n",
       "      <td>0</td>\n",
       "      <td>1</td>\n",
       "      <td>0</td>\n",
       "    </tr>\n",
       "  </tbody>\n",
       "</table>\n",
       "<p>5 rows × 288 columns</p>\n",
       "</div>"
      ],
      "text/plain": [
       "   Id  MSSubClass  LotFrontage  LotArea  Street  OverallQual  OverallCond  \\\n",
       "0   1          60         65.0     8450       1            7            5   \n",
       "1   2          20         80.0     9600       1            6            8   \n",
       "2   3          60         68.0    11250       1            7            5   \n",
       "3   4          70         60.0     9550       1            7            5   \n",
       "4   5          60         84.0    14260       1            8            5   \n",
       "\n",
       "   YearBuilt  YearRemodAdd  MasVnrArea  ...  SaleType_ConLw  SaleType_New  \\\n",
       "0       2003          2003       196.0  ...               0             0   \n",
       "1       1976          1976         0.0  ...               0             0   \n",
       "2       2001          2002       162.0  ...               0             0   \n",
       "3       1915          1970         0.0  ...               0             0   \n",
       "4       2000          2000       350.0  ...               0             0   \n",
       "\n",
       "   SaleType_Oth  SaleType_WD  SaleCondition_Abnorml  SaleCondition_AdjLand  \\\n",
       "0             0            1                      0                      0   \n",
       "1             0            1                      0                      0   \n",
       "2             0            1                      0                      0   \n",
       "3             0            1                      1                      0   \n",
       "4             0            1                      0                      0   \n",
       "\n",
       "   SaleCondition_Alloca  SaleCondition_Family  SaleCondition_Normal  \\\n",
       "0                     0                     0                     1   \n",
       "1                     0                     0                     1   \n",
       "2                     0                     0                     1   \n",
       "3                     0                     0                     0   \n",
       "4                     0                     0                     1   \n",
       "\n",
       "   SaleCondition_Partial  \n",
       "0                      0  \n",
       "1                      0  \n",
       "2                      0  \n",
       "3                      0  \n",
       "4                      0  \n",
       "\n",
       "[5 rows x 288 columns]"
      ]
     },
     "execution_count": 14,
     "metadata": {},
     "output_type": "execute_result"
    }
   ],
   "source": [
    "one_hot_cols = [cols for cols in df.columns if df[cols].dtype == 'object' and len(df[cols].unique()) > 2]\n",
    "df = pd.get_dummies(df, columns= one_hot_cols)\n",
    "# Checking Results\n",
    "df.head()"
   ]
  },
  {
   "cell_type": "markdown",
   "id": "8b62c07f",
   "metadata": {
    "papermill": {
     "duration": 0.022222,
     "end_time": "2023-07-05T15:03:48.207553",
     "exception": false,
     "start_time": "2023-07-05T15:03:48.185331",
     "status": "completed"
    },
    "tags": []
   },
   "source": [
    "<a id='model'></a>\n",
    "## **MODELS**\n",
    "\n",
    "#### Importing Libraries"
   ]
  },
  {
   "cell_type": "code",
   "execution_count": 15,
   "id": "0c092a0d",
   "metadata": {
    "execution": {
     "iopub.execute_input": "2023-07-05T15:03:48.253489Z",
     "iopub.status.busy": "2023-07-05T15:03:48.253082Z",
     "iopub.status.idle": "2023-07-05T15:03:48.387117Z",
     "shell.execute_reply": "2023-07-05T15:03:48.386240Z"
    },
    "papermill": {
     "duration": 0.160032,
     "end_time": "2023-07-05T15:03:48.389705",
     "exception": false,
     "start_time": "2023-07-05T15:03:48.229673",
     "status": "completed"
    },
    "tags": []
   },
   "outputs": [],
   "source": [
    "from sklearn.model_selection import train_test_split\n",
    "from sklearn.metrics import mean_squared_error\n",
    "from sklearn.linear_model import LinearRegression, ElasticNet, LassoCV, RidgeCV, ElasticNetCV"
   ]
  },
  {
   "cell_type": "markdown",
   "id": "c0c7217f",
   "metadata": {
    "papermill": {
     "duration": 0.02271,
     "end_time": "2023-07-05T15:03:48.436929",
     "exception": false,
     "start_time": "2023-07-05T15:03:48.414219",
     "status": "completed"
    },
    "tags": []
   },
   "source": [
    "#### Define a function to return root-mean squared error(RMSE)"
   ]
  },
  {
   "cell_type": "code",
   "execution_count": 16,
   "id": "8271cfa6",
   "metadata": {
    "execution": {
     "iopub.execute_input": "2023-07-05T15:03:48.484005Z",
     "iopub.status.busy": "2023-07-05T15:03:48.483100Z",
     "iopub.status.idle": "2023-07-05T15:03:48.488287Z",
     "shell.execute_reply": "2023-07-05T15:03:48.487288Z"
    },
    "papermill": {
     "duration": 0.031005,
     "end_time": "2023-07-05T15:03:48.490610",
     "exception": false,
     "start_time": "2023-07-05T15:03:48.459605",
     "status": "completed"
    },
    "tags": []
   },
   "outputs": [],
   "source": [
    "def rmse(y_true, y_pred):\n",
    "    return np.sqrt(mean_squared_error(y_true, y_pred))"
   ]
  },
  {
   "cell_type": "markdown",
   "id": "483c3d63",
   "metadata": {
    "papermill": {
     "duration": 0.021491,
     "end_time": "2023-07-05T15:03:48.534648",
     "exception": false,
     "start_time": "2023-07-05T15:03:48.513157",
     "status": "completed"
    },
    "tags": []
   },
   "source": [
    "#### Splitting Data into X(features) and Y(target)"
   ]
  },
  {
   "cell_type": "code",
   "execution_count": 17,
   "id": "712995f8",
   "metadata": {
    "execution": {
     "iopub.execute_input": "2023-07-05T15:03:48.580884Z",
     "iopub.status.busy": "2023-07-05T15:03:48.580111Z",
     "iopub.status.idle": "2023-07-05T15:03:48.591783Z",
     "shell.execute_reply": "2023-07-05T15:03:48.590929Z"
    },
    "papermill": {
     "duration": 0.037575,
     "end_time": "2023-07-05T15:03:48.594247",
     "exception": false,
     "start_time": "2023-07-05T15:03:48.556672",
     "status": "completed"
    },
    "tags": []
   },
   "outputs": [],
   "source": [
    "X = df.drop(columns=['Id', 'SalePrice'], axis=1)\n",
    "Y = df['SalePrice']"
   ]
  },
  {
   "cell_type": "markdown",
   "id": "71e8ade4",
   "metadata": {
    "papermill": {
     "duration": 0.022082,
     "end_time": "2023-07-05T15:03:48.638605",
     "exception": false,
     "start_time": "2023-07-05T15:03:48.616523",
     "status": "completed"
    },
    "tags": []
   },
   "source": [
    "#### Split Data into train and test data"
   ]
  },
  {
   "cell_type": "code",
   "execution_count": 18,
   "id": "e08e0145",
   "metadata": {
    "execution": {
     "iopub.execute_input": "2023-07-05T15:03:48.686426Z",
     "iopub.status.busy": "2023-07-05T15:03:48.685611Z",
     "iopub.status.idle": "2023-07-05T15:03:48.697255Z",
     "shell.execute_reply": "2023-07-05T15:03:48.696211Z"
    },
    "papermill": {
     "duration": 0.037947,
     "end_time": "2023-07-05T15:03:48.700088",
     "exception": false,
     "start_time": "2023-07-05T15:03:48.662141",
     "status": "completed"
    },
    "tags": []
   },
   "outputs": [],
   "source": [
    "X_train_val = X.loc[:1459, :]\n",
    "Y_train_val = Y.loc[:1459]\n",
    "X_test = X.loc[1460:, :]\n",
    "Y_test = Y.loc[1460:]\n",
    "\n",
    "X_train, X_val, Y_train, Y_val = train_test_split(X_train_val, Y_train_val, random_state=19, test_size=0.1)"
   ]
  },
  {
   "cell_type": "markdown",
   "id": "85d075bb",
   "metadata": {
    "papermill": {
     "duration": 0.022438,
     "end_time": "2023-07-05T15:03:48.745475",
     "exception": false,
     "start_time": "2023-07-05T15:03:48.723037",
     "status": "completed"
    },
    "tags": []
   },
   "source": [
    "### Linear Regression"
   ]
  },
  {
   "cell_type": "code",
   "execution_count": 19,
   "id": "828612ae",
   "metadata": {
    "execution": {
     "iopub.execute_input": "2023-07-05T15:03:48.790910Z",
     "iopub.status.busy": "2023-07-05T15:03:48.790481Z",
     "iopub.status.idle": "2023-07-05T15:03:48.894609Z",
     "shell.execute_reply": "2023-07-05T15:03:48.892176Z"
    },
    "papermill": {
     "duration": 0.131262,
     "end_time": "2023-07-05T15:03:48.898499",
     "exception": false,
     "start_time": "2023-07-05T15:03:48.767237",
     "status": "completed"
    },
    "tags": []
   },
   "outputs": [
    {
     "name": "stdout",
     "output_type": "stream",
     "text": [
      "RMSE: 39736.329268839996\n"
     ]
    }
   ],
   "source": [
    "lin_model = LinearRegression()\n",
    "lin_model.fit(X_train,Y_train)\n",
    "\n",
    "lin_pred= lin_model.predict(X_val)\n",
    "lin_rmse = rmse(Y_val, lin_pred)\n",
    "print('RMSE:', lin_rmse)"
   ]
  },
  {
   "cell_type": "markdown",
   "id": "58cb3551",
   "metadata": {
    "papermill": {
     "duration": 0.037692,
     "end_time": "2023-07-05T15:03:49.014935",
     "exception": false,
     "start_time": "2023-07-05T15:03:48.977243",
     "status": "completed"
    },
    "tags": []
   },
   "source": [
    "### Lasso Regression"
   ]
  },
  {
   "cell_type": "code",
   "execution_count": 20,
   "id": "e514bd54",
   "metadata": {
    "execution": {
     "iopub.execute_input": "2023-07-05T15:03:49.061567Z",
     "iopub.status.busy": "2023-07-05T15:03:49.061179Z",
     "iopub.status.idle": "2023-07-05T15:04:29.997419Z",
     "shell.execute_reply": "2023-07-05T15:04:29.995771Z"
    },
    "papermill": {
     "duration": 40.995724,
     "end_time": "2023-07-05T15:04:30.032918",
     "exception": false,
     "start_time": "2023-07-05T15:03:49.037194",
     "status": "completed"
    },
    "tags": []
   },
   "outputs": [
    {
     "name": "stdout",
     "output_type": "stream",
     "text": [
      "alpha: 50.0\n",
      "RMSE: 39128.72346473658\n"
     ]
    }
   ],
   "source": [
    "alpha1 = [0.005, 0.05, 0.1, 0.3, 1, 5, 20, 50, 80, 100, 120, 140]\n",
    "\n",
    "lassorCV = LassoCV(alphas=alpha1, max_iter= 5e4,cv=5)\n",
    "lassorCV.fit(X_train, Y_train)\n",
    "\n",
    "lassorCV_rmse = rmse(Y_val, lassorCV.predict(X_val))\n",
    "print('alpha:',lassorCV.alpha_)\n",
    "print('RMSE:',lassorCV_rmse)"
   ]
  },
  {
   "cell_type": "markdown",
   "id": "37a81453",
   "metadata": {
    "papermill": {
     "duration": 0.021702,
     "end_time": "2023-07-05T15:04:30.119703",
     "exception": false,
     "start_time": "2023-07-05T15:04:30.098001",
     "status": "completed"
    },
    "tags": []
   },
   "source": [
    "### Ridge Regression"
   ]
  },
  {
   "cell_type": "code",
   "execution_count": 21,
   "id": "78ad91d0",
   "metadata": {
    "execution": {
     "iopub.execute_input": "2023-07-05T15:04:30.165409Z",
     "iopub.status.busy": "2023-07-05T15:04:30.165022Z",
     "iopub.status.idle": "2023-07-05T15:04:33.966905Z",
     "shell.execute_reply": "2023-07-05T15:04:33.965305Z"
    },
    "papermill": {
     "duration": 3.830443,
     "end_time": "2023-07-05T15:04:33.971890",
     "exception": false,
     "start_time": "2023-07-05T15:04:30.141447",
     "status": "completed"
    },
    "tags": []
   },
   "outputs": [
    {
     "name": "stdout",
     "output_type": "stream",
     "text": [
      "alpha: 15.0\n",
      "RMSE: 35662.709031933824\n"
     ]
    }
   ],
   "source": [
    "alpha2 = [0.005, 0.05, 0.1, 0.3, 1, 3, 5, 10, 15, 30, 50, 80, 100]\n",
    "\n",
    "ridgeCV = RidgeCV(alphas=alpha2, cv=5)\n",
    "ridgeCV.fit(X_train, Y_train)\n",
    "\n",
    "ridgeCV_rmse = rmse(Y_val, ridgeCV.predict(X_val))\n",
    "print('alpha:',ridgeCV.alpha_)\n",
    "print('RMSE:',ridgeCV_rmse)"
   ]
  },
  {
   "cell_type": "markdown",
   "id": "13d115f0",
   "metadata": {
    "papermill": {
     "duration": 0.030049,
     "end_time": "2023-07-05T15:04:34.096091",
     "exception": false,
     "start_time": "2023-07-05T15:04:34.066042",
     "status": "completed"
    },
    "tags": []
   },
   "source": [
    "### ElasticNet Regression"
   ]
  },
  {
   "cell_type": "code",
   "execution_count": 22,
   "id": "2468be04",
   "metadata": {
    "execution": {
     "iopub.execute_input": "2023-07-05T15:04:34.142671Z",
     "iopub.status.busy": "2023-07-05T15:04:34.142265Z",
     "iopub.status.idle": "2023-07-05T15:08:17.789843Z",
     "shell.execute_reply": "2023-07-05T15:08:17.787867Z"
    },
    "papermill": {
     "duration": 223.765117,
     "end_time": "2023-07-05T15:08:17.884020",
     "exception": false,
     "start_time": "2023-07-05T15:04:34.118903",
     "status": "completed"
    },
    "tags": []
   },
   "outputs": [
    {
     "name": "stdout",
     "output_type": "stream",
     "text": [
      "alpha: 0.1\n",
      "l1 ratio: 0.9\n",
      "RMSE: 35622.4180197414\n"
     ]
    }
   ],
   "source": [
    "l1_ratios = np.linspace(0.1, 0.9, 9)\n",
    "\n",
    "elasticNetCV = ElasticNetCV(alphas=alpha1, l1_ratio=l1_ratios,\n",
    "                            max_iter= 1e4,cv=5)\n",
    "elasticNetCV.fit(X_train, Y_train)\n",
    "\n",
    "elasticNetCV_rmse = rmse(Y_val, elasticNetCV.predict(X_val))\n",
    "print('alpha:',elasticNetCV.alpha_)\n",
    "print('l1 ratio:', elasticNetCV.l1_ratio_)\n",
    "print('RMSE:',elasticNetCV_rmse)"
   ]
  },
  {
   "cell_type": "markdown",
   "id": "eb6b4862",
   "metadata": {
    "papermill": {
     "duration": 0.023962,
     "end_time": "2023-07-05T15:08:17.939752",
     "exception": false,
     "start_time": "2023-07-05T15:08:17.915790",
     "status": "completed"
    },
    "tags": []
   },
   "source": [
    "### LightGBM Regression"
   ]
  },
  {
   "cell_type": "code",
   "execution_count": 23,
   "id": "f187f93b",
   "metadata": {
    "execution": {
     "iopub.execute_input": "2023-07-05T15:08:17.991464Z",
     "iopub.status.busy": "2023-07-05T15:08:17.990973Z",
     "iopub.status.idle": "2023-07-05T15:08:19.630238Z",
     "shell.execute_reply": "2023-07-05T15:08:19.628794Z"
    },
    "papermill": {
     "duration": 1.668908,
     "end_time": "2023-07-05T15:08:19.633705",
     "exception": false,
     "start_time": "2023-07-05T15:08:17.964797",
     "status": "completed"
    },
    "tags": []
   },
   "outputs": [
    {
     "data": {
      "text/html": [
       "<style type='text/css'>\n",
       ".datatable table.frame { margin-bottom: 0; }\n",
       ".datatable table.frame thead { border-bottom: none; }\n",
       ".datatable table.frame tr.coltypes td {  color: #FFFFFF;  line-height: 6px;  padding: 0 0.5em;}\n",
       ".datatable .bool    { background: #DDDD99; }\n",
       ".datatable .object  { background: #565656; }\n",
       ".datatable .int     { background: #5D9E5D; }\n",
       ".datatable .float   { background: #4040CC; }\n",
       ".datatable .str     { background: #CC4040; }\n",
       ".datatable .time    { background: #40CC40; }\n",
       ".datatable .row_index {  background: var(--jp-border-color3);  border-right: 1px solid var(--jp-border-color0);  color: var(--jp-ui-font-color3);  font-size: 9px;}\n",
       ".datatable .frame tbody td { text-align: left; }\n",
       ".datatable .frame tr.coltypes .row_index {  background: var(--jp-border-color0);}\n",
       ".datatable th:nth-child(2) { padding-left: 12px; }\n",
       ".datatable .hellipsis {  color: var(--jp-cell-editor-border-color);}\n",
       ".datatable .vellipsis {  background: var(--jp-layout-color0);  color: var(--jp-cell-editor-border-color);}\n",
       ".datatable .na {  color: var(--jp-cell-editor-border-color);  font-size: 80%;}\n",
       ".datatable .sp {  opacity: 0.25;}\n",
       ".datatable .footer { font-size: 9px; }\n",
       ".datatable .frame_dimensions {  background: var(--jp-border-color3);  border-top: 1px solid var(--jp-border-color0);  color: var(--jp-ui-font-color3);  display: inline-block;  opacity: 0.6;  padding: 1px 10px 1px 5px;}\n",
       "</style>\n"
      ],
      "text/plain": [
       "<IPython.core.display.HTML object>"
      ]
     },
     "metadata": {},
     "output_type": "display_data"
    },
    {
     "name": "stdout",
     "output_type": "stream",
     "text": [
      "RMSE: 37835.631582677284\n"
     ]
    }
   ],
   "source": [
    "from lightgbm import LGBMRegressor\n",
    "\n",
    "lgbmRegressor = LGBMRegressor()\n",
    "lgbmRegressor.fit(X_train, Y_train)\n",
    "lgbm_rmse = rmse(Y_val, lgbmRegressor.predict(X_val))\n",
    "print('RMSE:', lgbm_rmse)"
   ]
  },
  {
   "cell_type": "markdown",
   "id": "726c8373",
   "metadata": {
    "papermill": {
     "duration": 0.027259,
     "end_time": "2023-07-05T15:08:19.686321",
     "exception": false,
     "start_time": "2023-07-05T15:08:19.659062",
     "status": "completed"
    },
    "tags": []
   },
   "source": [
    "### Gradient Boosting Regression"
   ]
  },
  {
   "cell_type": "code",
   "execution_count": 24,
   "id": "3c8a6d81",
   "metadata": {
    "execution": {
     "iopub.execute_input": "2023-07-05T15:08:19.738464Z",
     "iopub.status.busy": "2023-07-05T15:08:19.737958Z",
     "iopub.status.idle": "2023-07-05T15:08:20.923545Z",
     "shell.execute_reply": "2023-07-05T15:08:20.921767Z"
    },
    "papermill": {
     "duration": 1.214632,
     "end_time": "2023-07-05T15:08:20.926448",
     "exception": false,
     "start_time": "2023-07-05T15:08:19.711816",
     "status": "completed"
    },
    "tags": []
   },
   "outputs": [
    {
     "name": "stdout",
     "output_type": "stream",
     "text": [
      "RMSE: 38519.126822103804\n"
     ]
    }
   ],
   "source": [
    "from sklearn.ensemble import GradientBoostingRegressor\n",
    "\n",
    "gbRegressor = GradientBoostingRegressor()\n",
    "gbRegressor.fit(X_train, Y_train)\n",
    "gb_rmse = rmse(Y_val, gbRegressor.predict(X_val))\n",
    "print('RMSE:', gb_rmse)"
   ]
  },
  {
   "cell_type": "markdown",
   "id": "030f4cae",
   "metadata": {
    "papermill": {
     "duration": 0.024085,
     "end_time": "2023-07-05T15:08:20.975008",
     "exception": false,
     "start_time": "2023-07-05T15:08:20.950923",
     "status": "completed"
    },
    "tags": []
   },
   "source": [
    "### CatBoost Regression"
   ]
  },
  {
   "cell_type": "code",
   "execution_count": 25,
   "id": "536a65db",
   "metadata": {
    "execution": {
     "iopub.execute_input": "2023-07-05T15:08:21.026398Z",
     "iopub.status.busy": "2023-07-05T15:08:21.025960Z",
     "iopub.status.idle": "2023-07-05T15:08:26.602428Z",
     "shell.execute_reply": "2023-07-05T15:08:26.600755Z"
    },
    "papermill": {
     "duration": 5.605258,
     "end_time": "2023-07-05T15:08:26.605081",
     "exception": false,
     "start_time": "2023-07-05T15:08:20.999823",
     "status": "completed"
    },
    "tags": []
   },
   "outputs": [
    {
     "name": "stdout",
     "output_type": "stream",
     "text": [
      "RMSE: 35318.729482726325\n"
     ]
    }
   ],
   "source": [
    "from catboost import CatBoostRegressor\n",
    "\n",
    "cbRegressor = CatBoostRegressor()\n",
    "cbRegressor.fit(X_train, Y_train, silent=True)\n",
    "cb_rmse = rmse(Y_val, cbRegressor.predict(X_val))\n",
    "print('RMSE:', cb_rmse)"
   ]
  },
  {
   "cell_type": "markdown",
   "id": "7e970453",
   "metadata": {
    "papermill": {
     "duration": 0.025078,
     "end_time": "2023-07-05T15:08:26.654805",
     "exception": false,
     "start_time": "2023-07-05T15:08:26.629727",
     "status": "completed"
    },
    "tags": []
   },
   "source": [
    "### Bayesian Ridge"
   ]
  },
  {
   "cell_type": "code",
   "execution_count": 26,
   "id": "5e95b4b1",
   "metadata": {
    "execution": {
     "iopub.execute_input": "2023-07-05T15:08:26.707555Z",
     "iopub.status.busy": "2023-07-05T15:08:26.707116Z",
     "iopub.status.idle": "2023-07-05T15:08:26.934748Z",
     "shell.execute_reply": "2023-07-05T15:08:26.932557Z"
    },
    "papermill": {
     "duration": 0.259137,
     "end_time": "2023-07-05T15:08:26.939831",
     "exception": false,
     "start_time": "2023-07-05T15:08:26.680694",
     "status": "completed"
    },
    "tags": []
   },
   "outputs": [
    {
     "name": "stdout",
     "output_type": "stream",
     "text": [
      "RMSE: 35579.687564361135\n"
     ]
    }
   ],
   "source": [
    "from sklearn.linear_model import BayesianRidge\n",
    "\n",
    "brRegressor = BayesianRidge()\n",
    "brRegressor.fit(X_train, Y_train)\n",
    "br_rmse = rmse(Y_val, brRegressor.predict(X_val))\n",
    "print('RMSE:', br_rmse)"
   ]
  },
  {
   "cell_type": "markdown",
   "id": "774845f8",
   "metadata": {
    "papermill": {
     "duration": 0.041311,
     "end_time": "2023-07-05T15:08:27.056275",
     "exception": false,
     "start_time": "2023-07-05T15:08:27.014964",
     "status": "completed"
    },
    "tags": []
   },
   "source": [
    "## Random Forest Regression"
   ]
  },
  {
   "cell_type": "code",
   "execution_count": 27,
   "id": "c1b7e8c9",
   "metadata": {
    "execution": {
     "iopub.execute_input": "2023-07-05T15:08:27.107925Z",
     "iopub.status.busy": "2023-07-05T15:08:27.107458Z",
     "iopub.status.idle": "2023-07-05T15:08:30.316197Z",
     "shell.execute_reply": "2023-07-05T15:08:30.314609Z"
    },
    "papermill": {
     "duration": 3.237988,
     "end_time": "2023-07-05T15:08:30.319163",
     "exception": false,
     "start_time": "2023-07-05T15:08:27.081175",
     "status": "completed"
    },
    "tags": []
   },
   "outputs": [
    {
     "name": "stdout",
     "output_type": "stream",
     "text": [
      "RMSE: 36547.88410710029\n"
     ]
    }
   ],
   "source": [
    "from sklearn.ensemble import RandomForestRegressor\n",
    "\n",
    "rfRegressor = RandomForestRegressor(random_state=19)\n",
    "rfRegressor.fit(X_train, Y_train)\n",
    "rf_rmse = rmse(Y_val, rfRegressor.predict(X_val))\n",
    "print('RMSE:', rf_rmse)"
   ]
  },
  {
   "cell_type": "markdown",
   "id": "e19f610c",
   "metadata": {
    "papermill": {
     "duration": 0.024685,
     "end_time": "2023-07-05T15:08:30.369564",
     "exception": false,
     "start_time": "2023-07-05T15:08:30.344879",
     "status": "completed"
    },
    "tags": []
   },
   "source": [
    "### Extra Trees Regressor"
   ]
  },
  {
   "cell_type": "code",
   "execution_count": 28,
   "id": "83c87825",
   "metadata": {
    "execution": {
     "iopub.execute_input": "2023-07-05T15:08:30.425683Z",
     "iopub.status.busy": "2023-07-05T15:08:30.424004Z",
     "iopub.status.idle": "2023-07-05T15:08:34.188886Z",
     "shell.execute_reply": "2023-07-05T15:08:34.187369Z"
    },
    "papermill": {
     "duration": 3.794958,
     "end_time": "2023-07-05T15:08:34.191669",
     "exception": false,
     "start_time": "2023-07-05T15:08:30.396711",
     "status": "completed"
    },
    "tags": []
   },
   "outputs": [
    {
     "name": "stdout",
     "output_type": "stream",
     "text": [
      "RMSE: 39223.450800472725\n"
     ]
    }
   ],
   "source": [
    "from sklearn.ensemble import ExtraTreesRegressor\n",
    "\n",
    "extRegressor = ExtraTreesRegressor(random_state=19)\n",
    "extRegressor.fit(X_train, Y_train)\n",
    "ext_rmse = rmse(Y_val, extRegressor.predict(X_val))\n",
    "print('RMSE:', ext_rmse)"
   ]
  },
  {
   "cell_type": "markdown",
   "id": "932478f8",
   "metadata": {
    "papermill": {
     "duration": 0.024566,
     "end_time": "2023-07-05T15:08:34.241092",
     "exception": false,
     "start_time": "2023-07-05T15:08:34.216526",
     "status": "completed"
    },
    "tags": []
   },
   "source": [
    "<a id='Results'></a>\n",
    "## Results/Finding\n",
    "\n",
    "### Comparing the RMSE calculation from all models"
   ]
  },
  {
   "cell_type": "code",
   "execution_count": 29,
   "id": "738aa0ff",
   "metadata": {
    "execution": {
     "iopub.execute_input": "2023-07-05T15:08:34.293746Z",
     "iopub.status.busy": "2023-07-05T15:08:34.292580Z",
     "iopub.status.idle": "2023-07-05T15:08:34.313608Z",
     "shell.execute_reply": "2023-07-05T15:08:34.312170Z"
    },
    "papermill": {
     "duration": 0.050504,
     "end_time": "2023-07-05T15:08:34.316591",
     "exception": false,
     "start_time": "2023-07-05T15:08:34.266087",
     "status": "completed"
    },
    "tags": []
   },
   "outputs": [
    {
     "data": {
      "text/html": [
       "<div>\n",
       "<style scoped>\n",
       "    .dataframe tbody tr th:only-of-type {\n",
       "        vertical-align: middle;\n",
       "    }\n",
       "\n",
       "    .dataframe tbody tr th {\n",
       "        vertical-align: top;\n",
       "    }\n",
       "\n",
       "    .dataframe thead th {\n",
       "        text-align: right;\n",
       "    }\n",
       "</style>\n",
       "<table border=\"1\" class=\"dataframe\">\n",
       "  <thead>\n",
       "    <tr style=\"text-align: right;\">\n",
       "      <th></th>\n",
       "      <th>RMSE</th>\n",
       "    </tr>\n",
       "  </thead>\n",
       "  <tbody>\n",
       "    <tr>\n",
       "      <th>CatBoost</th>\n",
       "      <td>35318.729483</td>\n",
       "    </tr>\n",
       "    <tr>\n",
       "      <th>Bayesian Ridge</th>\n",
       "      <td>35579.687564</td>\n",
       "    </tr>\n",
       "    <tr>\n",
       "      <th>ElasticNet</th>\n",
       "      <td>35622.418020</td>\n",
       "    </tr>\n",
       "    <tr>\n",
       "      <th>Ridge</th>\n",
       "      <td>35662.709032</td>\n",
       "    </tr>\n",
       "    <tr>\n",
       "      <th>Random Forest</th>\n",
       "      <td>36547.884107</td>\n",
       "    </tr>\n",
       "    <tr>\n",
       "      <th>LightGBM</th>\n",
       "      <td>37835.631583</td>\n",
       "    </tr>\n",
       "    <tr>\n",
       "      <th>Gradient Boosting</th>\n",
       "      <td>38519.126822</td>\n",
       "    </tr>\n",
       "    <tr>\n",
       "      <th>Lasso</th>\n",
       "      <td>39128.723465</td>\n",
       "    </tr>\n",
       "    <tr>\n",
       "      <th>Extra Trees</th>\n",
       "      <td>39223.450800</td>\n",
       "    </tr>\n",
       "    <tr>\n",
       "      <th>Linear</th>\n",
       "      <td>39736.329269</td>\n",
       "    </tr>\n",
       "  </tbody>\n",
       "</table>\n",
       "</div>"
      ],
      "text/plain": [
       "                           RMSE\n",
       "CatBoost           35318.729483\n",
       "Bayesian Ridge     35579.687564\n",
       "ElasticNet         35622.418020\n",
       "Ridge              35662.709032\n",
       "Random Forest      36547.884107\n",
       "LightGBM           37835.631583\n",
       "Gradient Boosting  38519.126822\n",
       "Lasso              39128.723465\n",
       "Extra Trees        39223.450800\n",
       "Linear             39736.329269"
      ]
     },
     "execution_count": 29,
     "metadata": {},
     "output_type": "execute_result"
    }
   ],
   "source": [
    "rmse_val =  [lin_rmse, lassorCV_rmse, ridgeCV_rmse, elasticNetCV_rmse, lgbm_rmse, \n",
    "             gb_rmse, cb_rmse, br_rmse, rf_rmse, ext_rmse]\n",
    "labels = ['Linear', 'Lasso', 'Ridge', 'ElasticNet', 'LightGBM', 'Gradient Boosting', \n",
    "         'CatBoost', 'Bayesian Ridge', 'Random Forest', 'Extra Trees']\n",
    "\n",
    "rmse_df = pd.Series(rmse_val, index=labels).to_frame()\n",
    "rmse_df.rename(columns={0 : 'RMSE'}, inplace=True)\n",
    "rmse_df.sort_values(by='RMSE')"
   ]
  },
  {
   "cell_type": "markdown",
   "id": "cd663ade",
   "metadata": {
    "papermill": {
     "duration": 0.025836,
     "end_time": "2023-07-05T15:08:34.367746",
     "exception": false,
     "start_time": "2023-07-05T15:08:34.341910",
     "status": "completed"
    },
    "tags": []
   },
   "source": [
    "**RESULT:** The best model for is the model with the lowest RMSE score which is the **CatBoost regression model**."
   ]
  },
  {
   "cell_type": "markdown",
   "id": "def0fae5",
   "metadata": {
    "papermill": {
     "duration": 0.026172,
     "end_time": "2023-07-05T15:08:34.419072",
     "exception": false,
     "start_time": "2023-07-05T15:08:34.392900",
     "status": "completed"
    },
    "tags": []
   },
   "source": [
    "<a id='sumbit'></a>\n",
    "## Submission"
   ]
  },
  {
   "cell_type": "code",
   "execution_count": 30,
   "id": "e1d46f68",
   "metadata": {
    "execution": {
     "iopub.execute_input": "2023-07-05T15:08:34.479892Z",
     "iopub.status.busy": "2023-07-05T15:08:34.479177Z",
     "iopub.status.idle": "2023-07-05T15:08:34.538744Z",
     "shell.execute_reply": "2023-07-05T15:08:34.537749Z"
    },
    "papermill": {
     "duration": 0.097074,
     "end_time": "2023-07-05T15:08:34.542233",
     "exception": false,
     "start_time": "2023-07-05T15:08:34.445159",
     "status": "completed"
    },
    "tags": []
   },
   "outputs": [
    {
     "data": {
      "text/html": [
       "<div>\n",
       "<style scoped>\n",
       "    .dataframe tbody tr th:only-of-type {\n",
       "        vertical-align: middle;\n",
       "    }\n",
       "\n",
       "    .dataframe tbody tr th {\n",
       "        vertical-align: top;\n",
       "    }\n",
       "\n",
       "    .dataframe thead th {\n",
       "        text-align: right;\n",
       "    }\n",
       "</style>\n",
       "<table border=\"1\" class=\"dataframe\">\n",
       "  <thead>\n",
       "    <tr style=\"text-align: right;\">\n",
       "      <th></th>\n",
       "      <th>Id</th>\n",
       "      <th>SalePrice</th>\n",
       "    </tr>\n",
       "  </thead>\n",
       "  <tbody>\n",
       "    <tr>\n",
       "      <th>0</th>\n",
       "      <td>1461</td>\n",
       "      <td>126832.230985</td>\n",
       "    </tr>\n",
       "    <tr>\n",
       "      <th>1</th>\n",
       "      <td>1462</td>\n",
       "      <td>166907.955689</td>\n",
       "    </tr>\n",
       "    <tr>\n",
       "      <th>2</th>\n",
       "      <td>1463</td>\n",
       "      <td>190309.036402</td>\n",
       "    </tr>\n",
       "    <tr>\n",
       "      <th>3</th>\n",
       "      <td>1464</td>\n",
       "      <td>190817.230841</td>\n",
       "    </tr>\n",
       "    <tr>\n",
       "      <th>4</th>\n",
       "      <td>1465</td>\n",
       "      <td>186649.451099</td>\n",
       "    </tr>\n",
       "    <tr>\n",
       "      <th>...</th>\n",
       "      <td>...</td>\n",
       "      <td>...</td>\n",
       "    </tr>\n",
       "    <tr>\n",
       "      <th>1454</th>\n",
       "      <td>2915</td>\n",
       "      <td>78372.102961</td>\n",
       "    </tr>\n",
       "    <tr>\n",
       "      <th>1455</th>\n",
       "      <td>2916</td>\n",
       "      <td>76056.875877</td>\n",
       "    </tr>\n",
       "    <tr>\n",
       "      <th>1456</th>\n",
       "      <td>2917</td>\n",
       "      <td>166710.339347</td>\n",
       "    </tr>\n",
       "    <tr>\n",
       "      <th>1457</th>\n",
       "      <td>2918</td>\n",
       "      <td>116708.160528</td>\n",
       "    </tr>\n",
       "    <tr>\n",
       "      <th>1458</th>\n",
       "      <td>2919</td>\n",
       "      <td>227150.546023</td>\n",
       "    </tr>\n",
       "  </tbody>\n",
       "</table>\n",
       "<p>1459 rows × 2 columns</p>\n",
       "</div>"
      ],
      "text/plain": [
       "        Id      SalePrice\n",
       "0     1461  126832.230985\n",
       "1     1462  166907.955689\n",
       "2     1463  190309.036402\n",
       "3     1464  190817.230841\n",
       "4     1465  186649.451099\n",
       "...    ...            ...\n",
       "1454  2915   78372.102961\n",
       "1455  2916   76056.875877\n",
       "1456  2917  166710.339347\n",
       "1457  2918  116708.160528\n",
       "1458  2919  227150.546023\n",
       "\n",
       "[1459 rows x 2 columns]"
      ]
     },
     "execution_count": 30,
     "metadata": {},
     "output_type": "execute_result"
    }
   ],
   "source": [
    "output = pd.DataFrame(columns=[\"Id\",\"SalePrice\"])\n",
    "output[\"Id\"] = df_test.Id\n",
    "output[\"SalePrice\"] = cbRegressor.predict(X_test)\n",
    "output"
   ]
  },
  {
   "cell_type": "code",
   "execution_count": 31,
   "id": "492c2742",
   "metadata": {
    "execution": {
     "iopub.execute_input": "2023-07-05T15:08:34.599744Z",
     "iopub.status.busy": "2023-07-05T15:08:34.599041Z",
     "iopub.status.idle": "2023-07-05T15:08:34.615361Z",
     "shell.execute_reply": "2023-07-05T15:08:34.613599Z"
    },
    "papermill": {
     "duration": 0.046538,
     "end_time": "2023-07-05T15:08:34.618350",
     "exception": false,
     "start_time": "2023-07-05T15:08:34.571812",
     "status": "completed"
    },
    "tags": []
   },
   "outputs": [
    {
     "name": "stdout",
     "output_type": "stream",
     "text": [
      "Submission succesful!\n"
     ]
    }
   ],
   "source": [
    "output.to_csv('submission.csv', index=False)\n",
    "print('Submission succesful!')"
   ]
  },
  {
   "cell_type": "code",
   "execution_count": null,
   "id": "78ffccf3",
   "metadata": {
    "papermill": {
     "duration": 0.025145,
     "end_time": "2023-07-05T15:08:34.669624",
     "exception": false,
     "start_time": "2023-07-05T15:08:34.644479",
     "status": "completed"
    },
    "tags": []
   },
   "outputs": [],
   "source": []
  }
 ],
 "metadata": {
  "kernelspec": {
   "display_name": "Python 3",
   "language": "python",
   "name": "python3"
  },
  "language_info": {
   "codemirror_mode": {
    "name": "ipython",
    "version": 3
   },
   "file_extension": ".py",
   "mimetype": "text/x-python",
   "name": "python",
   "nbconvert_exporter": "python",
   "pygments_lexer": "ipython3",
   "version": "3.7.12"
  },
  "papermill": {
   "default_parameters": {},
   "duration": 308.001489,
   "end_time": "2023-07-05T15:08:35.721307",
   "environment_variables": {},
   "exception": null,
   "input_path": "__notebook__.ipynb",
   "output_path": "__notebook__.ipynb",
   "parameters": {},
   "start_time": "2023-07-05T15:03:27.719818",
   "version": "2.3.4"
  }
 },
 "nbformat": 4,
 "nbformat_minor": 5
}
